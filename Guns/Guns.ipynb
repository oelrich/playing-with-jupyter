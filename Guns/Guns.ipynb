{
 "cells": [
  {
   "cell_type": "markdown",
   "metadata": {},
   "source": [
    "# Guns & Smelling like ...\n",
    "\n",
    "I wanted to take a look at the Jupyter Notebook. I also saw a graph [More Guns, More Gun Deaths by Mona Chalabi](https://www.instagram.com/p/BWk0pE-lKcH/?taken-by=mona_chalabi&hl=en).\n",
    "\n",
    "The data in these calculations comes from the table [List of countries by firearm-related death rate](https://en.wikipedia.org/wiki/List_of_countries_by_firearm-related_death_rate) at Wikipedia and is augmented with some socioeconomic data from the [World bank](http://data.worldbank.org). The steps used to assemble the file '[gun_toters.feather](gun_toters.feather)' is available in [Guns - Data collection & cleanup](Guns%20-%20Data%20collection%20%26%20clean-up.ipynb).\n",
    "\n",
    "## Preliminary thoughts\n",
    "A thourough explanation of the theoretical foundatioins of this study can be found [here](https://www.youtube.com/watch?v=dQw4w9WgXcQ). And with that out of the way, let's dive right in to it!"
   ]
  },
  {
   "cell_type": "code",
   "execution_count": 1,
   "metadata": {},
   "outputs": [
    {
     "data": {
      "text/html": [
       "<div>\n",
       "<style>\n",
       "    .dataframe thead tr:only-child th {\n",
       "        text-align: right;\n",
       "    }\n",
       "\n",
       "    .dataframe thead th {\n",
       "        text-align: left;\n",
       "    }\n",
       "\n",
       "    .dataframe tbody tr th {\n",
       "        vertical-align: top;\n",
       "    }\n",
       "</style>\n",
       "<table border=\"1\" class=\"dataframe\">\n",
       "  <thead>\n",
       "    <tr style=\"text-align: right;\">\n",
       "      <th></th>\n",
       "      <th>Country</th>\n",
       "      <th>Deaths</th>\n",
       "      <th>Guns</th>\n",
       "      <th>Year</th>\n",
       "      <th>CountryCode</th>\n",
       "      <th>GDP</th>\n",
       "      <th>High-tech</th>\n",
       "    </tr>\n",
       "  </thead>\n",
       "  <tbody>\n",
       "    <tr>\n",
       "      <th>0</th>\n",
       "      <td>Japan</td>\n",
       "      <td>0.06</td>\n",
       "      <td>0.6</td>\n",
       "      <td>2008.0</td>\n",
       "      <td>JPN</td>\n",
       "      <td>43603.112336</td>\n",
       "      <td>23.837842</td>\n",
       "    </tr>\n",
       "    <tr>\n",
       "      <th>1</th>\n",
       "      <td>Korea, Republic of</td>\n",
       "      <td>0.08</td>\n",
       "      <td>1.1</td>\n",
       "      <td>2011.0</td>\n",
       "      <td>KOR</td>\n",
       "      <td>17870.083391</td>\n",
       "      <td>32.569983</td>\n",
       "    </tr>\n",
       "    <tr>\n",
       "      <th>2</th>\n",
       "      <td>Romania</td>\n",
       "      <td>0.14</td>\n",
       "      <td>0.7</td>\n",
       "      <td>2012.0</td>\n",
       "      <td>ROU</td>\n",
       "      <td>6436.917463</td>\n",
       "      <td>3.845048</td>\n",
       "    </tr>\n",
       "    <tr>\n",
       "      <th>3</th>\n",
       "      <td>Qatar</td>\n",
       "      <td>0.15</td>\n",
       "      <td>19.2</td>\n",
       "      <td>2004.0</td>\n",
       "      <td>QAT</td>\n",
       "      <td>62518.316634</td>\n",
       "      <td>0.009966</td>\n",
       "    </tr>\n",
       "    <tr>\n",
       "      <th>4</th>\n",
       "      <td>Singapore</td>\n",
       "      <td>0.16</td>\n",
       "      <td>0.5</td>\n",
       "      <td>2006.0</td>\n",
       "      <td>SGP</td>\n",
       "      <td>37790.268392</td>\n",
       "      <td>56.770908</td>\n",
       "    </tr>\n",
       "  </tbody>\n",
       "</table>\n",
       "</div>"
      ],
      "text/plain": [
       "              Country  Deaths  Guns    Year CountryCode           GDP  \\\n",
       "0               Japan    0.06   0.6  2008.0         JPN  43603.112336   \n",
       "1  Korea, Republic of    0.08   1.1  2011.0         KOR  17870.083391   \n",
       "2             Romania    0.14   0.7  2012.0         ROU   6436.917463   \n",
       "3               Qatar    0.15  19.2  2004.0         QAT  62518.316634   \n",
       "4           Singapore    0.16   0.5  2006.0         SGP  37790.268392   \n",
       "\n",
       "   High-tech  \n",
       "0  23.837842  \n",
       "1  32.569983  \n",
       "2   3.845048  \n",
       "3   0.009966  \n",
       "4  56.770908  "
      ]
     },
     "execution_count": 1,
     "metadata": {},
     "output_type": "execute_result"
    }
   ],
   "source": [
    "import feather\n",
    "path = 'gun_toters.feather'\n",
    "gun_toters = feather.read_dataframe(path)\n",
    "gun_toters.head()"
   ]
  },
  {
   "cell_type": "markdown",
   "metadata": {},
   "source": [
    "Let's do a quick graph."
   ]
  },
  {
   "cell_type": "code",
   "execution_count": 2,
   "metadata": {},
   "outputs": [
    {
     "data": {
      "image/png": "[encoded data removed]",
      "text/plain": [
       "<matplotlib.figure.Figure at 0xc780881e48>"
      ]
     },
     "metadata": {},
     "output_type": "display_data"
    }
   ],
   "source": [
    "%matplotlib inline\n",
    "import matplotlib.pyplot as plt\n",
    "import seaborn as sns\n",
    "sns.jointplot('Deaths','Guns', data=gun_toters, kind='reg');"
   ]
  },
  {
   "cell_type": "markdown",
   "metadata": {},
   "source": [
    "So. Less guns per person leads to more deaths of guns in a society. I guess we are done."
   ]
  },
  {
   "cell_type": "code",
   "execution_count": 3,
   "metadata": {},
   "outputs": [
    {
     "data": {
      "text/html": [
       "<div>\n",
       "<style>\n",
       "    .dataframe thead tr:only-child th {\n",
       "        text-align: right;\n",
       "    }\n",
       "\n",
       "    .dataframe thead th {\n",
       "        text-align: left;\n",
       "    }\n",
       "\n",
       "    .dataframe tbody tr th {\n",
       "        vertical-align: top;\n",
       "    }\n",
       "</style>\n",
       "<table border=\"1\" class=\"dataframe\">\n",
       "  <thead>\n",
       "    <tr style=\"text-align: right;\">\n",
       "      <th></th>\n",
       "      <th>Country</th>\n",
       "      <th>Deaths</th>\n",
       "      <th>Guns</th>\n",
       "      <th>Year</th>\n",
       "      <th>CountryCode</th>\n",
       "      <th>GDP</th>\n",
       "      <th>High-tech</th>\n",
       "      <th>Cluster</th>\n",
       "    </tr>\n",
       "  </thead>\n",
       "  <tbody>\n",
       "    <tr>\n",
       "      <th>0</th>\n",
       "      <td>Japan</td>\n",
       "      <td>0.06</td>\n",
       "      <td>0.6</td>\n",
       "      <td>2008.0</td>\n",
       "      <td>JPN</td>\n",
       "      <td>43603.112336</td>\n",
       "      <td>23.837842</td>\n",
       "      <td>1</td>\n",
       "    </tr>\n",
       "    <tr>\n",
       "      <th>1</th>\n",
       "      <td>Korea, Republic of</td>\n",
       "      <td>0.08</td>\n",
       "      <td>1.1</td>\n",
       "      <td>2011.0</td>\n",
       "      <td>KOR</td>\n",
       "      <td>17870.083391</td>\n",
       "      <td>32.569983</td>\n",
       "      <td>0</td>\n",
       "    </tr>\n",
       "    <tr>\n",
       "      <th>2</th>\n",
       "      <td>Romania</td>\n",
       "      <td>0.14</td>\n",
       "      <td>0.7</td>\n",
       "      <td>2012.0</td>\n",
       "      <td>ROU</td>\n",
       "      <td>6436.917463</td>\n",
       "      <td>3.845048</td>\n",
       "      <td>0</td>\n",
       "    </tr>\n",
       "    <tr>\n",
       "      <th>3</th>\n",
       "      <td>Qatar</td>\n",
       "      <td>0.15</td>\n",
       "      <td>19.2</td>\n",
       "      <td>2004.0</td>\n",
       "      <td>QAT</td>\n",
       "      <td>62518.316634</td>\n",
       "      <td>0.009966</td>\n",
       "      <td>2</td>\n",
       "    </tr>\n",
       "    <tr>\n",
       "      <th>4</th>\n",
       "      <td>Singapore</td>\n",
       "      <td>0.16</td>\n",
       "      <td>0.5</td>\n",
       "      <td>2006.0</td>\n",
       "      <td>SGP</td>\n",
       "      <td>37790.268392</td>\n",
       "      <td>56.770908</td>\n",
       "      <td>1</td>\n",
       "    </tr>\n",
       "  </tbody>\n",
       "</table>\n",
       "</div>"
      ],
      "text/plain": [
       "              Country  Deaths  Guns    Year CountryCode           GDP  \\\n",
       "0               Japan    0.06   0.6  2008.0         JPN  43603.112336   \n",
       "1  Korea, Republic of    0.08   1.1  2011.0         KOR  17870.083391   \n",
       "2             Romania    0.14   0.7  2012.0         ROU   6436.917463   \n",
       "3               Qatar    0.15  19.2  2004.0         QAT  62518.316634   \n",
       "4           Singapore    0.16   0.5  2006.0         SGP  37790.268392   \n",
       "\n",
       "   High-tech  Cluster  \n",
       "0  23.837842        1  \n",
       "1  32.569983        0  \n",
       "2   3.845048        0  \n",
       "3   0.009966        2  \n",
       "4  56.770908        1  "
      ]
     },
     "execution_count": 3,
     "metadata": {},
     "output_type": "execute_result"
    }
   ],
   "source": [
    "from sklearn.cluster import KMeans\n",
    "kmeans = KMeans(n_clusters=3, random_state=0).fit(gun_toters[['High-tech','GDP']])\n",
    "gun_toters['Cluster'] = kmeans.labels_\n",
    "gun_toters.head()"
   ]
  },
  {
   "cell_type": "code",
   "execution_count": 4,
   "metadata": {},
   "outputs": [
    {
     "data": {
      "text/plain": [
       "<seaborn.axisgrid.FacetGrid at 0xc7829882b0>"
      ]
     },
     "execution_count": 4,
     "metadata": {},
     "output_type": "execute_result"
    },
    {
     "data": {
      "image/png": "[encoded data removed]",
      "text/plain": [
       "<matplotlib.figure.Figure at 0xc782988588>"
      ]
     },
     "metadata": {},
     "output_type": "display_data"
    }
   ],
   "source": [
    "cluster_cmap = sns.color_palette([\"#cd9aff\",\"#fc7b80\",\"#a89538\",\"#679180\",\"#588194\",\"#8061a3\",\"#9b4a4e\"])\n",
    "g = sns.lmplot('Deaths', 'Guns', data=gun_toters, hue='Cluster', palette = cluster_cmap)\n",
    "g.set(ylim=(0,150))"
   ]
  },
  {
   "cell_type": "code",
   "execution_count": 5,
   "metadata": {},
   "outputs": [
    {
     "data": {
      "text/plain": [
       "<seaborn.axisgrid.FacetGrid at 0xc78297c048>"
      ]
     },
     "execution_count": 5,
     "metadata": {},
     "output_type": "execute_result"
    },
    {
     "data": {
      "image/png": "[encoded data removed]",
      "text/plain": [
       "<matplotlib.figure.Figure at 0xc78297cb00>"
      ]
     },
     "metadata": {},
     "output_type": "display_data"
    }
   ],
   "source": [
    "g = sns.lmplot('Deaths','Guns', data=gun_toters, col='Cluster', col_wrap = 3)\n",
    "g.set(ylim=(0,150))"
   ]
  },
  {
   "cell_type": "code",
   "execution_count": 6,
   "metadata": {
    "scrolled": true
   },
   "outputs": [
    {
     "data": {
      "text/html": [
       "<div>\n",
       "<style>\n",
       "    .dataframe thead tr:only-child th {\n",
       "        text-align: right;\n",
       "    }\n",
       "\n",
       "    .dataframe thead th {\n",
       "        text-align: left;\n",
       "    }\n",
       "\n",
       "    .dataframe tbody tr th {\n",
       "        vertical-align: top;\n",
       "    }\n",
       "</style>\n",
       "<table border=\"1\" class=\"dataframe\">\n",
       "  <thead>\n",
       "    <tr style=\"text-align: right;\">\n",
       "      <th></th>\n",
       "      <th>Country</th>\n",
       "      <th>Deaths</th>\n",
       "      <th>Guns</th>\n",
       "      <th>Year</th>\n",
       "      <th>CountryCode</th>\n",
       "      <th>GDP</th>\n",
       "      <th>High-tech</th>\n",
       "      <th>Cluster</th>\n",
       "    </tr>\n",
       "  </thead>\n",
       "  <tbody>\n",
       "    <tr>\n",
       "      <th>0</th>\n",
       "      <td>Japan</td>\n",
       "      <td>0.06</td>\n",
       "      <td>0.6</td>\n",
       "      <td>2008.0</td>\n",
       "      <td>JPN</td>\n",
       "      <td>43603.112336</td>\n",
       "      <td>23.837842</td>\n",
       "      <td>1</td>\n",
       "    </tr>\n",
       "    <tr>\n",
       "      <th>4</th>\n",
       "      <td>Singapore</td>\n",
       "      <td>0.16</td>\n",
       "      <td>0.5</td>\n",
       "      <td>2006.0</td>\n",
       "      <td>SGP</td>\n",
       "      <td>37790.268392</td>\n",
       "      <td>56.770908</td>\n",
       "      <td>1</td>\n",
       "    </tr>\n",
       "    <tr>\n",
       "      <th>5</th>\n",
       "      <td>United Kingdom</td>\n",
       "      <td>0.23</td>\n",
       "      <td>6.6</td>\n",
       "      <td>2011.0</td>\n",
       "      <td>GBR</td>\n",
       "      <td>38662.972232</td>\n",
       "      <td>26.216676</td>\n",
       "      <td>1</td>\n",
       "    </tr>\n",
       "    <tr>\n",
       "      <th>11</th>\n",
       "      <td>Kuwait</td>\n",
       "      <td>0.36</td>\n",
       "      <td>24.8</td>\n",
       "      <td>2000.0</td>\n",
       "      <td>KWT</td>\n",
       "      <td>44619.162266</td>\n",
       "      <td>0.113221</td>\n",
       "      <td>1</td>\n",
       "    </tr>\n",
       "    <tr>\n",
       "      <th>13</th>\n",
       "      <td>Netherlands</td>\n",
       "      <td>0.58</td>\n",
       "      <td>3.9</td>\n",
       "      <td>2011.0</td>\n",
       "      <td>NLD</td>\n",
       "      <td>47243.345011</td>\n",
       "      <td>30.902571</td>\n",
       "      <td>1</td>\n",
       "    </tr>\n",
       "    <tr>\n",
       "      <th>14</th>\n",
       "      <td>Spain</td>\n",
       "      <td>0.62</td>\n",
       "      <td>10.4</td>\n",
       "      <td>2010.0</td>\n",
       "      <td>ESP</td>\n",
       "      <td>30565.676126</td>\n",
       "      <td>7.336440</td>\n",
       "      <td>1</td>\n",
       "    </tr>\n",
       "    <tr>\n",
       "      <th>16</th>\n",
       "      <td>Australia</td>\n",
       "      <td>0.93</td>\n",
       "      <td>21.7</td>\n",
       "      <td>2013.0</td>\n",
       "      <td>AUS</td>\n",
       "      <td>47656.826371</td>\n",
       "      <td>13.333150</td>\n",
       "      <td>1</td>\n",
       "    </tr>\n",
       "    <tr>\n",
       "      <th>18</th>\n",
       "      <td>Germany</td>\n",
       "      <td>1.01</td>\n",
       "      <td>30.3</td>\n",
       "      <td>2012.0</td>\n",
       "      <td>DEU</td>\n",
       "      <td>38620.519819</td>\n",
       "      <td>17.380037</td>\n",
       "      <td>1</td>\n",
       "    </tr>\n",
       "    <tr>\n",
       "      <th>21</th>\n",
       "      <td>New Zealand</td>\n",
       "      <td>1.07</td>\n",
       "      <td>22.6</td>\n",
       "      <td>2013.0</td>\n",
       "      <td>NZL</td>\n",
       "      <td>32768.630493</td>\n",
       "      <td>9.771893</td>\n",
       "      <td>1</td>\n",
       "    </tr>\n",
       "    <tr>\n",
       "      <th>23</th>\n",
       "      <td>Iceland</td>\n",
       "      <td>1.25</td>\n",
       "      <td>30.3</td>\n",
       "      <td>2012.0</td>\n",
       "      <td>ISL</td>\n",
       "      <td>40433.668825</td>\n",
       "      <td>20.550794</td>\n",
       "      <td>1</td>\n",
       "    </tr>\n",
       "    <tr>\n",
       "      <th>24</th>\n",
       "      <td>Denmark</td>\n",
       "      <td>1.28</td>\n",
       "      <td>12.0</td>\n",
       "      <td>2011.0</td>\n",
       "      <td>DNK</td>\n",
       "      <td>57552.724629</td>\n",
       "      <td>20.038731</td>\n",
       "      <td>1</td>\n",
       "    </tr>\n",
       "    <tr>\n",
       "      <th>25</th>\n",
       "      <td>Italy</td>\n",
       "      <td>1.31</td>\n",
       "      <td>11.9</td>\n",
       "      <td>2010.0</td>\n",
       "      <td>ITA</td>\n",
       "      <td>37013.081107</td>\n",
       "      <td>8.014517</td>\n",
       "      <td>1</td>\n",
       "    </tr>\n",
       "    <tr>\n",
       "      <th>27</th>\n",
       "      <td>Sweden</td>\n",
       "      <td>1.47</td>\n",
       "      <td>31.6</td>\n",
       "      <td>2010.0</td>\n",
       "      <td>SWE</td>\n",
       "      <td>48599.952856</td>\n",
       "      <td>16.867262</td>\n",
       "      <td>1</td>\n",
       "    </tr>\n",
       "    <tr>\n",
       "      <th>28</th>\n",
       "      <td>Greece</td>\n",
       "      <td>1.52</td>\n",
       "      <td>22.5</td>\n",
       "      <td>2011.0</td>\n",
       "      <td>GRC</td>\n",
       "      <td>27220.731295</td>\n",
       "      <td>11.665323</td>\n",
       "      <td>1</td>\n",
       "    </tr>\n",
       "    <tr>\n",
       "      <th>32</th>\n",
       "      <td>Belgium</td>\n",
       "      <td>1.82</td>\n",
       "      <td>17.2</td>\n",
       "      <td>2010.0</td>\n",
       "      <td>BEL</td>\n",
       "      <td>42198.075997</td>\n",
       "      <td>8.787607</td>\n",
       "      <td>1</td>\n",
       "    </tr>\n",
       "    <tr>\n",
       "      <th>34</th>\n",
       "      <td>Cyprus</td>\n",
       "      <td>1.87</td>\n",
       "      <td>36.4</td>\n",
       "      <td>2012.0</td>\n",
       "      <td>CYP</td>\n",
       "      <td>29811.889852</td>\n",
       "      <td>9.814426</td>\n",
       "      <td>1</td>\n",
       "    </tr>\n",
       "    <tr>\n",
       "      <th>36</th>\n",
       "      <td>Canada</td>\n",
       "      <td>1.97</td>\n",
       "      <td>30.8</td>\n",
       "      <td>2013.0</td>\n",
       "      <td>CAN</td>\n",
       "      <td>46197.431327</td>\n",
       "      <td>12.969342</td>\n",
       "      <td>1</td>\n",
       "    </tr>\n",
       "    <tr>\n",
       "      <th>39</th>\n",
       "      <td>Israel</td>\n",
       "      <td>2.09</td>\n",
       "      <td>7.3</td>\n",
       "      <td>2011.0</td>\n",
       "      <td>ISR</td>\n",
       "      <td>26540.408360</td>\n",
       "      <td>15.908051</td>\n",
       "      <td>1</td>\n",
       "    </tr>\n",
       "    <tr>\n",
       "      <th>40</th>\n",
       "      <td>Austria</td>\n",
       "      <td>2.63</td>\n",
       "      <td>30.4</td>\n",
       "      <td>2011.0</td>\n",
       "      <td>AUT</td>\n",
       "      <td>43754.735945</td>\n",
       "      <td>15.146488</td>\n",
       "      <td>1</td>\n",
       "    </tr>\n",
       "    <tr>\n",
       "      <th>44</th>\n",
       "      <td>France</td>\n",
       "      <td>2.83</td>\n",
       "      <td>31.2</td>\n",
       "      <td>2012.0</td>\n",
       "      <td>FRA</td>\n",
       "      <td>39826.236219</td>\n",
       "      <td>19.913888</td>\n",
       "      <td>1</td>\n",
       "    </tr>\n",
       "    <tr>\n",
       "      <th>47</th>\n",
       "      <td>Finland</td>\n",
       "      <td>3.25</td>\n",
       "      <td>27.5</td>\n",
       "      <td>2013.0</td>\n",
       "      <td>FIN</td>\n",
       "      <td>44120.042390</td>\n",
       "      <td>23.243703</td>\n",
       "      <td>1</td>\n",
       "    </tr>\n",
       "    <tr>\n",
       "      <th>58</th>\n",
       "      <td>United States</td>\n",
       "      <td>10.54</td>\n",
       "      <td>112.6</td>\n",
       "      <td>2014.0</td>\n",
       "      <td>USA</td>\n",
       "      <td>47557.977337</td>\n",
       "      <td>30.332926</td>\n",
       "      <td>1</td>\n",
       "    </tr>\n",
       "  </tbody>\n",
       "</table>\n",
       "</div>"
      ],
      "text/plain": [
       "           Country  Deaths   Guns    Year CountryCode           GDP  \\\n",
       "0            Japan    0.06    0.6  2008.0         JPN  43603.112336   \n",
       "4        Singapore    0.16    0.5  2006.0         SGP  37790.268392   \n",
       "5   United Kingdom    0.23    6.6  2011.0         GBR  38662.972232   \n",
       "11          Kuwait    0.36   24.8  2000.0         KWT  44619.162266   \n",
       "13     Netherlands    0.58    3.9  2011.0         NLD  47243.345011   \n",
       "14           Spain    0.62   10.4  2010.0         ESP  30565.676126   \n",
       "16       Australia    0.93   21.7  2013.0         AUS  47656.826371   \n",
       "18         Germany    1.01   30.3  2012.0         DEU  38620.519819   \n",
       "21     New Zealand    1.07   22.6  2013.0         NZL  32768.630493   \n",
       "23         Iceland    1.25   30.3  2012.0         ISL  40433.668825   \n",
       "24         Denmark    1.28   12.0  2011.0         DNK  57552.724629   \n",
       "25           Italy    1.31   11.9  2010.0         ITA  37013.081107   \n",
       "27          Sweden    1.47   31.6  2010.0         SWE  48599.952856   \n",
       "28          Greece    1.52   22.5  2011.0         GRC  27220.731295   \n",
       "32         Belgium    1.82   17.2  2010.0         BEL  42198.075997   \n",
       "34          Cyprus    1.87   36.4  2012.0         CYP  29811.889852   \n",
       "36          Canada    1.97   30.8  2013.0         CAN  46197.431327   \n",
       "39          Israel    2.09    7.3  2011.0         ISR  26540.408360   \n",
       "40         Austria    2.63   30.4  2011.0         AUT  43754.735945   \n",
       "44          France    2.83   31.2  2012.0         FRA  39826.236219   \n",
       "47         Finland    3.25   27.5  2013.0         FIN  44120.042390   \n",
       "58   United States   10.54  112.6  2014.0         USA  47557.977337   \n",
       "\n",
       "    High-tech  Cluster  \n",
       "0   23.837842        1  \n",
       "4   56.770908        1  \n",
       "5   26.216676        1  \n",
       "11   0.113221        1  \n",
       "13  30.902571        1  \n",
       "14   7.336440        1  \n",
       "16  13.333150        1  \n",
       "18  17.380037        1  \n",
       "21   9.771893        1  \n",
       "23  20.550794        1  \n",
       "24  20.038731        1  \n",
       "25   8.014517        1  \n",
       "27  16.867262        1  \n",
       "28  11.665323        1  \n",
       "32   8.787607        1  \n",
       "34   9.814426        1  \n",
       "36  12.969342        1  \n",
       "39  15.908051        1  \n",
       "40  15.146488        1  \n",
       "44  19.913888        1  \n",
       "47  23.243703        1  \n",
       "58  30.332926        1  "
      ]
     },
     "execution_count": 6,
     "metadata": {},
     "output_type": "execute_result"
    }
   ],
   "source": [
    "gun_toters[(gun_toters.Cluster == 1)]"
   ]
  },
  {
   "cell_type": "markdown",
   "metadata": {},
   "source": [
    "Not so brilliant ... But we do see sort of a pattern. Or three ..."
   ]
  },
  {
   "cell_type": "code",
   "execution_count": 7,
   "metadata": {},
   "outputs": [
    {
     "data": {
      "image/png": "[encoded data removed]",
      "text/plain": [
       "<matplotlib.figure.Figure at 0xc78425d4a8>"
      ]
     },
     "metadata": {},
     "output_type": "display_data"
    }
   ],
   "source": [
    "wb_values_ax = gun_toters.plot.scatter(x='High-tech', y='GDP', s=50)\n",
    "plt.show()"
   ]
  },
  {
   "cell_type": "code",
   "execution_count": 8,
   "metadata": {},
   "outputs": [
    {
     "data": {
      "text/html": [
       "<div>\n",
       "<style>\n",
       "    .dataframe thead tr:only-child th {\n",
       "        text-align: right;\n",
       "    }\n",
       "\n",
       "    .dataframe thead th {\n",
       "        text-align: left;\n",
       "    }\n",
       "\n",
       "    .dataframe tbody tr th {\n",
       "        vertical-align: top;\n",
       "    }\n",
       "</style>\n",
       "<table border=\"1\" class=\"dataframe\">\n",
       "  <thead>\n",
       "    <tr style=\"text-align: right;\">\n",
       "      <th></th>\n",
       "      <th>Country</th>\n",
       "      <th>Deaths</th>\n",
       "      <th>Guns</th>\n",
       "      <th>Year</th>\n",
       "      <th>CountryCode</th>\n",
       "      <th>GDP</th>\n",
       "      <th>High-tech</th>\n",
       "      <th>Cluster</th>\n",
       "    </tr>\n",
       "  </thead>\n",
       "  <tbody>\n",
       "    <tr>\n",
       "      <th>0</th>\n",
       "      <td>Japan</td>\n",
       "      <td>0.06</td>\n",
       "      <td>0.6</td>\n",
       "      <td>2008.0</td>\n",
       "      <td>JPN</td>\n",
       "      <td>43603.112336</td>\n",
       "      <td>23.837842</td>\n",
       "      <td>6</td>\n",
       "    </tr>\n",
       "    <tr>\n",
       "      <th>1</th>\n",
       "      <td>Korea, Republic of</td>\n",
       "      <td>0.08</td>\n",
       "      <td>1.1</td>\n",
       "      <td>2011.0</td>\n",
       "      <td>KOR</td>\n",
       "      <td>17870.083391</td>\n",
       "      <td>32.569983</td>\n",
       "      <td>0</td>\n",
       "    </tr>\n",
       "    <tr>\n",
       "      <th>2</th>\n",
       "      <td>Romania</td>\n",
       "      <td>0.14</td>\n",
       "      <td>0.7</td>\n",
       "      <td>2012.0</td>\n",
       "      <td>ROU</td>\n",
       "      <td>6436.917463</td>\n",
       "      <td>3.845048</td>\n",
       "      <td>3</td>\n",
       "    </tr>\n",
       "    <tr>\n",
       "      <th>3</th>\n",
       "      <td>Qatar</td>\n",
       "      <td>0.15</td>\n",
       "      <td>19.2</td>\n",
       "      <td>2004.0</td>\n",
       "      <td>QAT</td>\n",
       "      <td>62518.316634</td>\n",
       "      <td>0.009966</td>\n",
       "      <td>4</td>\n",
       "    </tr>\n",
       "    <tr>\n",
       "      <th>4</th>\n",
       "      <td>Singapore</td>\n",
       "      <td>0.16</td>\n",
       "      <td>0.5</td>\n",
       "      <td>2006.0</td>\n",
       "      <td>SGP</td>\n",
       "      <td>37790.268392</td>\n",
       "      <td>56.770908</td>\n",
       "      <td>2</td>\n",
       "    </tr>\n",
       "  </tbody>\n",
       "</table>\n",
       "</div>"
      ],
      "text/plain": [
       "              Country  Deaths  Guns    Year CountryCode           GDP  \\\n",
       "0               Japan    0.06   0.6  2008.0         JPN  43603.112336   \n",
       "1  Korea, Republic of    0.08   1.1  2011.0         KOR  17870.083391   \n",
       "2             Romania    0.14   0.7  2012.0         ROU   6436.917463   \n",
       "3               Qatar    0.15  19.2  2004.0         QAT  62518.316634   \n",
       "4           Singapore    0.16   0.5  2006.0         SGP  37790.268392   \n",
       "\n",
       "   High-tech  Cluster  \n",
       "0  23.837842        6  \n",
       "1  32.569983        0  \n",
       "2   3.845048        3  \n",
       "3   0.009966        4  \n",
       "4  56.770908        2  "
      ]
     },
     "execution_count": 8,
     "metadata": {},
     "output_type": "execute_result"
    }
   ],
   "source": [
    "from sklearn.cluster import KMeans\n",
    "kmeans = KMeans(n_clusters=7, random_state=0).fit(gun_toters[['High-tech','GDP']])\n",
    "gun_toters['Cluster'] = kmeans.labels_\n",
    "gun_toters.head()"
   ]
  },
  {
   "cell_type": "markdown",
   "metadata": {},
   "source": [
    "Not super helpful ... A colorised plot perhaps?"
   ]
  },
  {
   "cell_type": "code",
   "execution_count": 9,
   "metadata": {
    "collapsed": true
   },
   "outputs": [],
   "source": [
    "from matplotlib import colors\n",
    "cluster_cmap = colors.ListedColormap([\"#cd9aff\",\"#fc7b80\",\"#a89538\",\"#679180\",\"#588194\",\"#8061a3\",\"#9b4a4e\"])"
   ]
  },
  {
   "cell_type": "code",
   "execution_count": 10,
   "metadata": {},
   "outputs": [
    {
     "data": {
      "image/png": "[encoded data removed]",
      "text/plain": [
       "<matplotlib.figure.Figure at 0xc7844c2e80>"
      ]
     },
     "metadata": {},
     "output_type": "display_data"
    }
   ],
   "source": [
    "ax = gun_toters.plot.scatter(\n",
    "    x='High-tech',\n",
    "    y='GDP',\n",
    "    c='Cluster',\n",
    "    cmap = cluster_cmap,\n",
    "    s=50)\n",
    "plt.show()"
   ]
  },
  {
   "cell_type": "code",
   "execution_count": 11,
   "metadata": {},
   "outputs": [
    {
     "data": {
      "image/png": "[encoded data removed]",
      "text/plain": [
       "<matplotlib.figure.Figure at 0xc7845fdba8>"
      ]
     },
     "metadata": {},
     "output_type": "display_data"
    }
   ],
   "source": [
    "ax = gun_toters.plot.scatter(x='Deaths', y='Guns', c='Cluster', cmap = cluster_cmap, s=50)\n",
    "plt.show()"
   ]
  },
  {
   "cell_type": "code",
   "execution_count": 12,
   "metadata": {},
   "outputs": [
    {
     "data": {
      "image/png": "[encoded data removed]",
      "text/plain": [
       "<matplotlib.figure.Figure at 0xc784730400>"
      ]
     },
     "metadata": {},
     "output_type": "display_data"
    }
   ],
   "source": [
    "sns.lmplot(x='Deaths', y='Guns', data=gun_toters[gun_toters.Cluster != 3], fit_reg=True);"
   ]
  },
  {
   "cell_type": "code",
   "execution_count": 13,
   "metadata": {},
   "outputs": [
    {
     "data": {
      "image/png": "[encoded data removed]",
      "text/plain": [
       "<matplotlib.figure.Figure at 0xc7847d3c50>"
      ]
     },
     "metadata": {},
     "output_type": "display_data"
    }
   ],
   "source": [
    "sns.lmplot(x='Deaths', y='Guns', data=gun_toters[(gun_toters.Cluster != 1) & (gun_toters.Country != \"USA\")], fit_reg=True);"
   ]
  },
  {
   "cell_type": "markdown",
   "metadata": {},
   "source": [
    "Now we get to see the plot above with a socioeconomic overlay. Yey!"
   ]
  },
  {
   "cell_type": "code",
   "execution_count": 14,
   "metadata": {},
   "outputs": [
    {
     "data": {
      "image/png": "[encoded data removed]",
      "text/plain": [
       "<matplotlib.figure.Figure at 0xc784665630>"
      ]
     },
     "metadata": {},
     "output_type": "display_data"
    }
   ],
   "source": [
    "ax = gun_toters[gun_toters.Cluster != 1].plot.scatter(x='Deaths', y='Guns', c='Cluster', cmap = cluster_cmap, s=50)\n",
    "plt.show()"
   ]
  },
  {
   "cell_type": "markdown",
   "metadata": {},
   "source": [
    "For rich countries this seems very linear ..."
   ]
  },
  {
   "cell_type": "code",
   "execution_count": 15,
   "metadata": {},
   "outputs": [
    {
     "data": {
      "text/plain": [
       "LinearRegression(copy_X=True, fit_intercept=True, n_jobs=1, normalize=False)"
      ]
     },
     "execution_count": 15,
     "metadata": {},
     "output_type": "execute_result"
    }
   ],
   "source": [
    "from sklearn.linear_model import LinearRegression\n",
    "lr = LinearRegression()\n",
    "rich_toters = gun_toters[gun_toters.Cluster != 1]\n",
    "rich_model = lr.fit(rich_toters[['Guns']],rich_toters[['Deaths']])\n",
    "rich_model"
   ]
  },
  {
   "cell_type": "code",
   "execution_count": 16,
   "metadata": {},
   "outputs": [
    {
     "data": {
      "text/plain": [
       "LinearRegression(copy_X=True, fit_intercept=True, n_jobs=1, normalize=False)"
      ]
     },
     "execution_count": 16,
     "metadata": {},
     "output_type": "execute_result"
    }
   ],
   "source": [
    "lr_wo_usa = LinearRegression()\n",
    "rich_toters_wo_usa = gun_toters[(gun_toters.Cluster != 1) & (gun_toters.Country != 'USA')]\n",
    "lr_wo_usa.fit(rich_toters_wo_usa[['Guns']],rich_toters_wo_usa[['Deaths']])"
   ]
  },
  {
   "cell_type": "code",
   "execution_count": 17,
   "metadata": {},
   "outputs": [
    {
     "name": "stderr",
     "output_type": "stream",
     "text": [
      "C:\\ProgramData\\Anaconda3\\lib\\site-packages\\statsmodels\\compat\\pandas.py:56: FutureWarning: The pandas.core.datetools module is deprecated and will be removed in a future version. Please use the pandas.tseries module instead.\n",
      "  from pandas.core import datetools\n"
     ]
    },
    {
     "data": {
      "text/html": [
       "<table class=\"simpletable\">\n",
       "<caption>OLS Regression Results</caption>\n",
       "<tr>\n",
       "  <th>Dep. Variable:</th>         <td>Deaths</td>      <th>  R-squared:         </th> <td>   0.082</td>\n",
       "</tr>\n",
       "<tr>\n",
       "  <th>Model:</th>                   <td>OLS</td>       <th>  Adj. R-squared:    </th> <td>   0.068</td>\n",
       "</tr>\n",
       "<tr>\n",
       "  <th>Method:</th>             <td>Least Squares</td>  <th>  F-statistic:       </th> <td>   5.926</td>\n",
       "</tr>\n",
       "<tr>\n",
       "  <th>Date:</th>             <td>Fri, 28 Jul 2017</td> <th>  Prob (F-statistic):</th>  <td>0.0176</td> \n",
       "</tr>\n",
       "<tr>\n",
       "  <th>Time:</th>                 <td>14:12:54</td>     <th>  Log-Likelihood:    </th> <td> -272.18</td>\n",
       "</tr>\n",
       "<tr>\n",
       "  <th>No. Observations:</th>      <td>    67</td>      <th>  AIC:               </th> <td>   546.4</td>\n",
       "</tr>\n",
       "<tr>\n",
       "  <th>Df Residuals:</th>          <td>    66</td>      <th>  BIC:               </th> <td>   548.6</td>\n",
       "</tr>\n",
       "<tr>\n",
       "  <th>Df Model:</th>              <td>     1</td>      <th>                     </th>     <td> </td>   \n",
       "</tr>\n",
       "<tr>\n",
       "  <th>Covariance Type:</th>      <td>nonrobust</td>    <th>                     </th>     <td> </td>   \n",
       "</tr>\n",
       "</table>\n",
       "<table class=\"simpletable\">\n",
       "<tr>\n",
       "    <td></td>      <th>coef</th>     <th>std err</th>      <th>t</th>      <th>P>|t|</th>  <th>[0.025</th>    <th>0.975]</th>  \n",
       "</tr>\n",
       "<tr>\n",
       "  <th>Guns</th> <td>    0.1819</td> <td>    0.075</td> <td>    2.434</td> <td> 0.018</td> <td>    0.033</td> <td>    0.331</td>\n",
       "</tr>\n",
       "</table>\n",
       "<table class=\"simpletable\">\n",
       "<tr>\n",
       "  <th>Omnibus:</th>       <td>61.802</td> <th>  Durbin-Watson:     </th> <td>   0.132</td>\n",
       "</tr>\n",
       "<tr>\n",
       "  <th>Prob(Omnibus):</th> <td> 0.000</td> <th>  Jarque-Bera (JB):  </th> <td> 294.845</td>\n",
       "</tr>\n",
       "<tr>\n",
       "  <th>Skew:</th>          <td> 2.854</td> <th>  Prob(JB):          </th> <td>9.45e-65</td>\n",
       "</tr>\n",
       "<tr>\n",
       "  <th>Kurtosis:</th>      <td>11.546</td> <th>  Cond. No.          </th> <td>    1.00</td>\n",
       "</tr>\n",
       "</table>"
      ],
      "text/plain": [
       "<class 'statsmodels.iolib.summary.Summary'>\n",
       "\"\"\"\n",
       "                            OLS Regression Results                            \n",
       "==============================================================================\n",
       "Dep. Variable:                 Deaths   R-squared:                       0.082\n",
       "Model:                            OLS   Adj. R-squared:                  0.068\n",
       "Method:                 Least Squares   F-statistic:                     5.926\n",
       "Date:                Fri, 28 Jul 2017   Prob (F-statistic):             0.0176\n",
       "Time:                        14:12:54   Log-Likelihood:                -272.18\n",
       "No. Observations:                  67   AIC:                             546.4\n",
       "Df Residuals:                      66   BIC:                             548.6\n",
       "Df Model:                           1                                         \n",
       "Covariance Type:            nonrobust                                         \n",
       "==============================================================================\n",
       "                 coef    std err          t      P>|t|      [0.025      0.975]\n",
       "------------------------------------------------------------------------------\n",
       "Guns           0.1819      0.075      2.434      0.018       0.033       0.331\n",
       "==============================================================================\n",
       "Omnibus:                       61.802   Durbin-Watson:                   0.132\n",
       "Prob(Omnibus):                  0.000   Jarque-Bera (JB):              294.845\n",
       "Skew:                           2.854   Prob(JB):                     9.45e-65\n",
       "Kurtosis:                      11.546   Cond. No.                         1.00\n",
       "==============================================================================\n",
       "\n",
       "Warnings:\n",
       "[1] Standard Errors assume that the covariance matrix of the errors is correctly specified.\n",
       "\"\"\""
      ]
     },
     "execution_count": 17,
     "metadata": {},
     "output_type": "execute_result"
    }
   ],
   "source": [
    "import statsmodels.api as sm\n",
    "rich_model = sm.OLS(rich_toters[['Deaths']],rich_toters[['Guns']]).fit()\n",
    "rich_model.summary()"
   ]
  },
  {
   "cell_type": "code",
   "execution_count": 18,
   "metadata": {},
   "outputs": [
    {
     "data": {
      "text/html": [
       "<table class=\"simpletable\">\n",
       "<caption>OLS Regression Results</caption>\n",
       "<tr>\n",
       "  <th>Dep. Variable:</th>         <td>Deaths</td>      <th>  R-squared:         </th> <td>   0.082</td>\n",
       "</tr>\n",
       "<tr>\n",
       "  <th>Model:</th>                   <td>OLS</td>       <th>  Adj. R-squared:    </th> <td>   0.068</td>\n",
       "</tr>\n",
       "<tr>\n",
       "  <th>Method:</th>             <td>Least Squares</td>  <th>  F-statistic:       </th> <td>   5.926</td>\n",
       "</tr>\n",
       "<tr>\n",
       "  <th>Date:</th>             <td>Fri, 28 Jul 2017</td> <th>  Prob (F-statistic):</th>  <td>0.0176</td> \n",
       "</tr>\n",
       "<tr>\n",
       "  <th>Time:</th>                 <td>14:13:01</td>     <th>  Log-Likelihood:    </th> <td> -272.18</td>\n",
       "</tr>\n",
       "<tr>\n",
       "  <th>No. Observations:</th>      <td>    67</td>      <th>  AIC:               </th> <td>   546.4</td>\n",
       "</tr>\n",
       "<tr>\n",
       "  <th>Df Residuals:</th>          <td>    66</td>      <th>  BIC:               </th> <td>   548.6</td>\n",
       "</tr>\n",
       "<tr>\n",
       "  <th>Df Model:</th>              <td>     1</td>      <th>                     </th>     <td> </td>   \n",
       "</tr>\n",
       "<tr>\n",
       "  <th>Covariance Type:</th>      <td>nonrobust</td>    <th>                     </th>     <td> </td>   \n",
       "</tr>\n",
       "</table>\n",
       "<table class=\"simpletable\">\n",
       "<tr>\n",
       "    <td></td>      <th>coef</th>     <th>std err</th>      <th>t</th>      <th>P>|t|</th>  <th>[0.025</th>    <th>0.975]</th>  \n",
       "</tr>\n",
       "<tr>\n",
       "  <th>Guns</th> <td>    0.1819</td> <td>    0.075</td> <td>    2.434</td> <td> 0.018</td> <td>    0.033</td> <td>    0.331</td>\n",
       "</tr>\n",
       "</table>\n",
       "<table class=\"simpletable\">\n",
       "<tr>\n",
       "  <th>Omnibus:</th>       <td>61.802</td> <th>  Durbin-Watson:     </th> <td>   0.132</td>\n",
       "</tr>\n",
       "<tr>\n",
       "  <th>Prob(Omnibus):</th> <td> 0.000</td> <th>  Jarque-Bera (JB):  </th> <td> 294.845</td>\n",
       "</tr>\n",
       "<tr>\n",
       "  <th>Skew:</th>          <td> 2.854</td> <th>  Prob(JB):          </th> <td>9.45e-65</td>\n",
       "</tr>\n",
       "<tr>\n",
       "  <th>Kurtosis:</th>      <td>11.546</td> <th>  Cond. No.          </th> <td>    1.00</td>\n",
       "</tr>\n",
       "</table>"
      ],
      "text/plain": [
       "<class 'statsmodels.iolib.summary.Summary'>\n",
       "\"\"\"\n",
       "                            OLS Regression Results                            \n",
       "==============================================================================\n",
       "Dep. Variable:                 Deaths   R-squared:                       0.082\n",
       "Model:                            OLS   Adj. R-squared:                  0.068\n",
       "Method:                 Least Squares   F-statistic:                     5.926\n",
       "Date:                Fri, 28 Jul 2017   Prob (F-statistic):             0.0176\n",
       "Time:                        14:13:01   Log-Likelihood:                -272.18\n",
       "No. Observations:                  67   AIC:                             546.4\n",
       "Df Residuals:                      66   BIC:                             548.6\n",
       "Df Model:                           1                                         \n",
       "Covariance Type:            nonrobust                                         \n",
       "==============================================================================\n",
       "                 coef    std err          t      P>|t|      [0.025      0.975]\n",
       "------------------------------------------------------------------------------\n",
       "Guns           0.1819      0.075      2.434      0.018       0.033       0.331\n",
       "==============================================================================\n",
       "Omnibus:                       61.802   Durbin-Watson:                   0.132\n",
       "Prob(Omnibus):                  0.000   Jarque-Bera (JB):              294.845\n",
       "Skew:                           2.854   Prob(JB):                     9.45e-65\n",
       "Kurtosis:                      11.546   Cond. No.                         1.00\n",
       "==============================================================================\n",
       "\n",
       "Warnings:\n",
       "[1] Standard Errors assume that the covariance matrix of the errors is correctly specified.\n",
       "\"\"\""
      ]
     },
     "execution_count": 18,
     "metadata": {},
     "output_type": "execute_result"
    }
   ],
   "source": [
    "import statsmodels.api as sm\n",
    "rich_model_wo_usa = sm.OLS(rich_toters_wo_usa[['Deaths']],rich_toters_wo_usa[['Guns']]).fit()\n",
    "rich_model_wo_usa.summary()"
   ]
  },
  {
   "cell_type": "markdown",
   "metadata": {},
   "source": [
    "And we take the different regressions we have created and put them into the plot."
   ]
  },
  {
   "cell_type": "markdown",
   "metadata": {},
   "source": [
    "From this we learn atleast three things.\n",
    "1. The 'scikit-learn' and the 'statsmodels' linear regression methods differ.\n",
    "1. In a rich country increasing the number of guns results in more deaths by guns. Who'd a thunk it?\n",
    "1. The elevated death-rate in the US is higher than it should be for a wealthy country with it's shit together. But yeah ..."
   ]
  },
  {
   "cell_type": "code",
   "execution_count": 19,
   "metadata": {},
   "outputs": [
    {
     "data": {
      "text/html": [
       "<div>\n",
       "<style>\n",
       "    .dataframe thead tr:only-child th {\n",
       "        text-align: right;\n",
       "    }\n",
       "\n",
       "    .dataframe thead th {\n",
       "        text-align: left;\n",
       "    }\n",
       "\n",
       "    .dataframe tbody tr th {\n",
       "        vertical-align: top;\n",
       "    }\n",
       "</style>\n",
       "<table border=\"1\" class=\"dataframe\">\n",
       "  <thead>\n",
       "    <tr style=\"text-align: right;\">\n",
       "      <th></th>\n",
       "      <th>Country</th>\n",
       "      <th>Deaths</th>\n",
       "      <th>Guns</th>\n",
       "      <th>Year</th>\n",
       "      <th>CountryCode</th>\n",
       "      <th>GDP</th>\n",
       "      <th>High-tech</th>\n",
       "      <th>Cluster</th>\n",
       "    </tr>\n",
       "  </thead>\n",
       "  <tbody>\n",
       "    <tr>\n",
       "      <th>4</th>\n",
       "      <td>Singapore</td>\n",
       "      <td>0.16</td>\n",
       "      <td>0.5</td>\n",
       "      <td>2006.0</td>\n",
       "      <td>SGP</td>\n",
       "      <td>37790.268392</td>\n",
       "      <td>56.770908</td>\n",
       "      <td>2</td>\n",
       "    </tr>\n",
       "    <tr>\n",
       "      <th>5</th>\n",
       "      <td>United Kingdom</td>\n",
       "      <td>0.23</td>\n",
       "      <td>6.6</td>\n",
       "      <td>2011.0</td>\n",
       "      <td>GBR</td>\n",
       "      <td>38662.972232</td>\n",
       "      <td>26.216676</td>\n",
       "      <td>2</td>\n",
       "    </tr>\n",
       "    <tr>\n",
       "      <th>18</th>\n",
       "      <td>Germany</td>\n",
       "      <td>1.01</td>\n",
       "      <td>30.3</td>\n",
       "      <td>2012.0</td>\n",
       "      <td>DEU</td>\n",
       "      <td>38620.519819</td>\n",
       "      <td>17.380037</td>\n",
       "      <td>2</td>\n",
       "    </tr>\n",
       "    <tr>\n",
       "      <th>23</th>\n",
       "      <td>Iceland</td>\n",
       "      <td>1.25</td>\n",
       "      <td>30.3</td>\n",
       "      <td>2012.0</td>\n",
       "      <td>ISL</td>\n",
       "      <td>40433.668825</td>\n",
       "      <td>20.550794</td>\n",
       "      <td>2</td>\n",
       "    </tr>\n",
       "    <tr>\n",
       "      <th>25</th>\n",
       "      <td>Italy</td>\n",
       "      <td>1.31</td>\n",
       "      <td>11.9</td>\n",
       "      <td>2010.0</td>\n",
       "      <td>ITA</td>\n",
       "      <td>37013.081107</td>\n",
       "      <td>8.014517</td>\n",
       "      <td>2</td>\n",
       "    </tr>\n",
       "    <tr>\n",
       "      <th>32</th>\n",
       "      <td>Belgium</td>\n",
       "      <td>1.82</td>\n",
       "      <td>17.2</td>\n",
       "      <td>2010.0</td>\n",
       "      <td>BEL</td>\n",
       "      <td>42198.075997</td>\n",
       "      <td>8.787607</td>\n",
       "      <td>2</td>\n",
       "    </tr>\n",
       "    <tr>\n",
       "      <th>44</th>\n",
       "      <td>France</td>\n",
       "      <td>2.83</td>\n",
       "      <td>31.2</td>\n",
       "      <td>2012.0</td>\n",
       "      <td>FRA</td>\n",
       "      <td>39826.236219</td>\n",
       "      <td>19.913888</td>\n",
       "      <td>2</td>\n",
       "    </tr>\n",
       "  </tbody>\n",
       "</table>\n",
       "</div>"
      ],
      "text/plain": [
       "           Country  Deaths  Guns    Year CountryCode           GDP  High-tech  \\\n",
       "4        Singapore    0.16   0.5  2006.0         SGP  37790.268392  56.770908   \n",
       "5   United Kingdom    0.23   6.6  2011.0         GBR  38662.972232  26.216676   \n",
       "18         Germany    1.01  30.3  2012.0         DEU  38620.519819  17.380037   \n",
       "23         Iceland    1.25  30.3  2012.0         ISL  40433.668825  20.550794   \n",
       "25           Italy    1.31  11.9  2010.0         ITA  37013.081107   8.014517   \n",
       "32         Belgium    1.82  17.2  2010.0         BEL  42198.075997   8.787607   \n",
       "44          France    2.83  31.2  2012.0         FRA  39826.236219  19.913888   \n",
       "\n",
       "    Cluster  \n",
       "4         2  \n",
       "5         2  \n",
       "18        2  \n",
       "23        2  \n",
       "25        2  \n",
       "32        2  \n",
       "44        2  "
      ]
     },
     "execution_count": 19,
     "metadata": {},
     "output_type": "execute_result"
    }
   ],
   "source": [
    "gun_toters[gun_toters.Cluster == 2]"
   ]
  },
  {
   "cell_type": "code",
   "execution_count": 20,
   "metadata": {},
   "outputs": [
    {
     "data": {
      "text/html": [
       "<div>\n",
       "<style>\n",
       "    .dataframe thead tr:only-child th {\n",
       "        text-align: right;\n",
       "    }\n",
       "\n",
       "    .dataframe thead th {\n",
       "        text-align: left;\n",
       "    }\n",
       "\n",
       "    .dataframe tbody tr th {\n",
       "        vertical-align: top;\n",
       "    }\n",
       "</style>\n",
       "<table border=\"1\" class=\"dataframe\">\n",
       "  <thead>\n",
       "    <tr style=\"text-align: right;\">\n",
       "      <th></th>\n",
       "      <th>Country</th>\n",
       "      <th>Deaths</th>\n",
       "      <th>Guns</th>\n",
       "      <th>CountryCode</th>\n",
       "      <th>GDP</th>\n",
       "      <th>High-tech</th>\n",
       "    </tr>\n",
       "  </thead>\n",
       "  <tbody>\n",
       "    <tr>\n",
       "      <th>59</th>\n",
       "      <td>Uruguay</td>\n",
       "      <td>11.52</td>\n",
       "      <td>31.8</td>\n",
       "      <td>URY</td>\n",
       "      <td>8515.755998</td>\n",
       "      <td>2.762607</td>\n",
       "    </tr>\n",
       "    <tr>\n",
       "      <th>61</th>\n",
       "      <td>Brazil</td>\n",
       "      <td>21.20</td>\n",
       "      <td>8.0</td>\n",
       "      <td>BRA</td>\n",
       "      <td>9238.322919</td>\n",
       "      <td>12.130622</td>\n",
       "    </tr>\n",
       "    <tr>\n",
       "      <th>67</th>\n",
       "      <td>Venezuela, Bolivarian Republic of</td>\n",
       "      <td>59.13</td>\n",
       "      <td>10.7</td>\n",
       "      <td>VEN</td>\n",
       "      <td>11077.990259</td>\n",
       "      <td>2.986381</td>\n",
       "    </tr>\n",
       "  </tbody>\n",
       "</table>\n",
       "</div>"
      ],
      "text/plain": [
       "                              Country  Deaths  Guns CountryCode           GDP  \\\n",
       "59                            Uruguay   11.52  31.8         URY   8515.755998   \n",
       "61                             Brazil   21.20   8.0         BRA   9238.322919   \n",
       "67  Venezuela, Bolivarian Republic of   59.13  10.7         VEN  11077.990259   \n",
       "\n",
       "    High-tech  \n",
       "59   2.762607  \n",
       "61  12.130622  \n",
       "67   2.986381  "
      ]
     },
     "execution_count": 20,
     "metadata": {},
     "output_type": "execute_result"
    }
   ],
   "source": [
    "gun_toters[(gun_toters.Cluster == 0) & (gun_toters.Deaths > 10)].sort_values('GDP').drop(['Year','Cluster'], axis=1)"
   ]
  },
  {
   "cell_type": "code",
   "execution_count": 21,
   "metadata": {},
   "outputs": [
    {
     "data": {
      "text/html": [
       "<div>\n",
       "<style>\n",
       "    .dataframe thead tr:only-child th {\n",
       "        text-align: right;\n",
       "    }\n",
       "\n",
       "    .dataframe thead th {\n",
       "        text-align: left;\n",
       "    }\n",
       "\n",
       "    .dataframe tbody tr th {\n",
       "        vertical-align: top;\n",
       "    }\n",
       "</style>\n",
       "<table border=\"1\" class=\"dataframe\">\n",
       "  <thead>\n",
       "    <tr style=\"text-align: right;\">\n",
       "      <th></th>\n",
       "      <th>Country</th>\n",
       "      <th>Deaths</th>\n",
       "      <th>Guns</th>\n",
       "      <th>CountryCode</th>\n",
       "      <th>GDP</th>\n",
       "      <th>High-tech</th>\n",
       "    </tr>\n",
       "  </thead>\n",
       "  <tbody>\n",
       "    <tr>\n",
       "      <th>31</th>\n",
       "      <td>Norway</td>\n",
       "      <td>1.75</td>\n",
       "      <td>31.3</td>\n",
       "      <td>NOR</td>\n",
       "      <td>86465.847954</td>\n",
       "      <td>16.787543</td>\n",
       "    </tr>\n",
       "    <tr>\n",
       "      <th>22</th>\n",
       "      <td>Luxembourg</td>\n",
       "      <td>1.19</td>\n",
       "      <td>15.3</td>\n",
       "      <td>LUX</td>\n",
       "      <td>99612.567971</td>\n",
       "      <td>11.463384</td>\n",
       "    </tr>\n",
       "  </tbody>\n",
       "</table>\n",
       "</div>"
      ],
      "text/plain": [
       "       Country  Deaths  Guns CountryCode           GDP  High-tech\n",
       "31      Norway    1.75  31.3         NOR  86465.847954  16.787543\n",
       "22  Luxembourg    1.19  15.3         LUX  99612.567971  11.463384"
      ]
     },
     "execution_count": 21,
     "metadata": {},
     "output_type": "execute_result"
    }
   ],
   "source": [
    "gun_toters[gun_toters.Cluster == 1].sort_values('GDP').drop(['Year','Cluster'], axis=1)"
   ]
  },
  {
   "cell_type": "markdown",
   "metadata": {},
   "source": [
    "Here we sort of follow the same pattern for some of the points. Could be interesting to cluster this group. Or increase the number of clusters above."
   ]
  },
  {
   "cell_type": "markdown",
   "metadata": {},
   "source": [
    "## The End ...\n",
    "It would be interesting to add all violent deaths to the numbers. The yanks tend to say that their guns prevent more death than they cause and if this is the case the other rich countries should have a disproportionate number of stabbings, bludgeonings and so on. To compensate for their inability to shoot people.\n",
    "\n",
    "Perhaps this will be added later. If I find the data."
   ]
  }
 ],
 "metadata": {
  "kernelspec": {
   "display_name": "Python 3",
   "language": "python",
   "name": "python3"
  },
  "language_info": {
   "codemirror_mode": {
    "name": "ipython",
    "version": 3
   },
   "file_extension": ".py",
   "mimetype": "text/x-python",
   "name": "python",
   "nbconvert_exporter": "python",
   "pygments_lexer": "ipython3",
   "version": "3.6.1"
  }
 },
 "nbformat": 4,
 "nbformat_minor": 2
}
