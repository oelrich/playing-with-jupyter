{
 "cells": [
  {
   "cell_type": "markdown",
   "metadata": {},
   "source": [
    "# Guns & Smelling like ...\n",
    "\n",
    "I wanted to take a look at the Jupyter Notebook. I also saw a graph [More Guns, More Gun Deaths by Mona Chalabi](https://www.instagram.com/p/BWk0pE-lKcH/?taken-by=mona_chalabi&hl=en).\n",
    "\n",
    "The data in these calculations comes from the table [List of countries by firearm-related death rate](https://en.wikipedia.org/wiki/List_of_countries_by_firearm-related_death_rate) at Wikipedia."
   ]
  },
  {
   "cell_type": "code",
   "execution_count": 52,
   "metadata": {},
   "outputs": [
    {
     "name": "stdout",
     "output_type": "stream",
     "text": [
      "Excerpt ...\n",
      "        Country  Deaths  Guns    Year\n",
      "34        Japan    0.06   0.6  2008.0\n",
      "60  South Korea    0.08   1.1  2011.0\n",
      "54      Romania    0.14   0.7  2012.0\n",
      "53        Qatar    0.15  19.2  2004.0\n",
      "56    Singapore    0.16   0.5  2006.0\n"
     ]
    },
    {
     "data": {
      "text/html": [
       "<div>\n",
       "<style>\n",
       "    .dataframe thead tr:only-child th {\n",
       "        text-align: right;\n",
       "    }\n",
       "\n",
       "    .dataframe thead th {\n",
       "        text-align: left;\n",
       "    }\n",
       "\n",
       "    .dataframe tbody tr th {\n",
       "        vertical-align: top;\n",
       "    }\n",
       "</style>\n",
       "<table border=\"1\" class=\"dataframe\">\n",
       "  <thead>\n",
       "    <tr style=\"text-align: right;\">\n",
       "      <th></th>\n",
       "      <th>count</th>\n",
       "      <th>mean</th>\n",
       "      <th>std</th>\n",
       "      <th>min</th>\n",
       "      <th>25%</th>\n",
       "      <th>50%</th>\n",
       "      <th>75%</th>\n",
       "      <th>max</th>\n",
       "    </tr>\n",
       "  </thead>\n",
       "  <tbody>\n",
       "    <tr>\n",
       "      <th>Deaths</th>\n",
       "      <td>69.0</td>\n",
       "      <td>6.842029</td>\n",
       "      <td>12.839734</td>\n",
       "      <td>0.06</td>\n",
       "      <td>0.95</td>\n",
       "      <td>1.87</td>\n",
       "      <td>6.36</td>\n",
       "      <td>67.18</td>\n",
       "    </tr>\n",
       "    <tr>\n",
       "      <th>Guns</th>\n",
       "      <td>69.0</td>\n",
       "      <td>15.939855</td>\n",
       "      <td>16.984003</td>\n",
       "      <td>0.50</td>\n",
       "      <td>6.40</td>\n",
       "      <td>10.70</td>\n",
       "      <td>21.70</td>\n",
       "      <td>112.60</td>\n",
       "    </tr>\n",
       "  </tbody>\n",
       "</table>\n",
       "</div>"
      ],
      "text/plain": [
       "        count       mean        std   min   25%    50%    75%     max\n",
       "Deaths   69.0   6.842029  12.839734  0.06  0.95   1.87   6.36   67.18\n",
       "Guns     69.0  15.939855  16.984003  0.50  6.40  10.70  21.70  112.60"
      ]
     },
     "execution_count": 52,
     "metadata": {},
     "output_type": "execute_result"
    }
   ],
   "source": [
    "import pandas as pd\n",
    "import numpy as np\n",
    "import re\n",
    "\n",
    "def extract_year(text):\n",
    "    m = re.search('(\\d{4})', text)\n",
    "    if m is None:\n",
    "        return np.NaN\n",
    "    else:\n",
    "        return pd.to_numeric(m.group(0))\n",
    "\n",
    "def best_year(row):\n",
    "    if not np.isnan(row['Method of Calculation']):\n",
    "        return row['Method of Calculation']\n",
    "    else:\n",
    "        return max([row['Homicides'], row['Suicides'], row['Unintentional'], row['Undetermined']])\n",
    "\n",
    "page = 'https://en.wikipedia.org/wiki/List_of_countries_by_firearm-related_death_rate'\n",
    "wiki_data = pd.read_html(page,header=0)\n",
    "gun_toters = wiki_data[2]\n",
    "gun_toters.drop(73, inplace=True)\n",
    "\n",
    "gun_toters['Method of Calculation'] = gun_toters['Method of Calculation'].apply(extract_year)\n",
    "gun_toters['Homicides'] = pd.to_numeric(gun_toters['Homicides'].apply(extract_year))\n",
    "gun_toters['Suicides'] = gun_toters['Suicides'].apply(extract_year)\n",
    "gun_toters['Unintentional'] = gun_toters['Unintentional'].apply(extract_year)\n",
    "gun_toters['Undetermined'] = gun_toters['Undetermined'].apply(extract_year)\n",
    "gun_toters['Country'] = gun_toters['Country'].apply(lambda s: s.split(\"!\")[0].strip())\n",
    "gun_toters['Deaths'] = pd.to_numeric(gun_toters['Total'])\n",
    "gun_toters['Guns'] = pd.to_numeric(gun_toters['Guns per 100 hab'], errors='coerce')\n",
    "gun_toters['Year'] = gun_toters.apply(best_year, axis=1)\n",
    "gun_toters.drop(['Total',\n",
    "                 'Guns per 100 hab',\n",
    "                 'Method of Calculation',\n",
    "                 'Homicides',\n",
    "                 'Suicides',\n",
    "                 'Unintentional',\n",
    "                 'Undetermined',\n",
    "                 'Sources and notes'], inplace=True,axis=1)\n",
    "gun_toters.sort_values(by='Deaths', inplace=True)\n",
    "gun_toters.dropna(inplace=True)\n",
    "print (\"Excerpt ...\")\n",
    "print (gun_toters[0:5])\n",
    "pd.DataFrame([gun_toters['Deaths'].describe(), gun_toters['Guns'].describe()])"
   ]
  },
  {
   "cell_type": "markdown",
   "metadata": {},
   "source": [
    "Now the data is sort of looking presentable. So we could do a quick graph."
   ]
  },
  {
   "cell_type": "code",
   "execution_count": 53,
   "metadata": {
    "scrolled": true
   },
   "outputs": [
    {
     "data": {
      "image/png": "[encoded data removed]",
      "text/plain": [
       "<matplotlib.figure.Figure at 0x1ed78d066a0>"
      ]
     },
     "metadata": {},
     "output_type": "display_data"
    }
   ],
   "source": [
    "%matplotlib inline\n",
    "import matplotlib.pyplot as plt\n",
    "import matplotlib\n",
    "plt.rcParams[\"figure.figsize\"] = [12,5]\n",
    "\n",
    "matplotlib.style.use('ggplot')\n",
    "gun_toters_ax = gun_toters.plot.scatter(x='Deaths', y='Guns', s=50)\n",
    "plt.show()"
   ]
  },
  {
   "cell_type": "markdown",
   "metadata": {},
   "source": [
    "Not so brilliant ... But we do see sort of a pattern. Or three ..."
   ]
  },
  {
   "cell_type": "markdown",
   "metadata": {},
   "source": [
    "## World bank data\n",
    "Let's get some data from the [World bank](http://data.worldbank.org). They have all kinds of interesting information. To do that we need to get the countries by two letter codes first. So we can look at just the things we want.\n",
    "This turned a bit messy. The library 'pycountry' was the best I could find, but people do love to write names in creative ways. So the first thing we need is a function to keep track of that kind of madness.\n",
    "But once we are done the country code makes for a good index. Since countries appear only once."
   ]
  },
  {
   "cell_type": "code",
   "execution_count": 54,
   "metadata": {},
   "outputs": [
    {
     "name": "stdout",
     "output_type": "stream",
     "text": [
      "Excerpt ...\n",
      "        Country  Deaths  Guns    Year\n",
      "C2                                   \n",
      "JP        Japan    0.06   0.6  2008.0\n",
      "KR  South Korea    0.08   1.1  2011.0\n",
      "RO      Romania    0.14   0.7  2012.0\n",
      "QA        Qatar    0.15  19.2  2004.0\n",
      "SG    Singapore    0.16   0.5  2006.0\n"
     ]
    }
   ],
   "source": [
    "import pycountry as pc\n",
    "def country_code(country):\n",
    "    country = country \\\n",
    "        .replace(\"Macedonia\",\"Macedonia, Republic of\") \\\n",
    "        .replace(\"South Korea\",\"Korea, Republic of\") \\\n",
    "        .replace(\"Korea, Rep.\",\"Korea, Republic of\") \\\n",
    "        .replace(\"Venezuela, RB\",\"Venezuela\")\n",
    "    code = 'none found'\n",
    "    try:\n",
    "        code = pc.countries.get(name=country)\n",
    "    except KeyError:\n",
    "        try:\n",
    "            code = pc.countries.get(common_name=country)\n",
    "        except KeyError:\n",
    "            try:\n",
    "                code = pc.countries.get(official_name=country)\n",
    "            except:\n",
    "                print (\"Whooopsie ...\\n\" + country)\n",
    "    return code.alpha_2\n",
    "gun_toters['C2'] = gun_toters['Country'].apply(lambda s: country_code(s))\n",
    "gun_toters.set_index('C2', inplace=True)\n",
    "print (\"Excerpt ...\")\n",
    "print (gun_toters[0:5])"
   ]
  },
  {
   "cell_type": "markdown",
   "metadata": {},
   "source": [
    "Now we can get that juicy World bank data."
   ]
  },
  {
   "cell_type": "code",
   "execution_count": 79,
   "metadata": {},
   "outputs": [
    {
     "data": {
      "text/html": [
       "<div>\n",
       "<style>\n",
       "    .dataframe thead tr:only-child th {\n",
       "        text-align: right;\n",
       "    }\n",
       "\n",
       "    .dataframe thead th {\n",
       "        text-align: left;\n",
       "    }\n",
       "\n",
       "    .dataframe tbody tr th {\n",
       "        vertical-align: top;\n",
       "    }\n",
       "</style>\n",
       "<table border=\"1\" class=\"dataframe\">\n",
       "  <thead>\n",
       "    <tr style=\"text-align: right;\">\n",
       "      <th></th>\n",
       "      <th>Country</th>\n",
       "      <th>Year</th>\n",
       "      <th>GDP</th>\n",
       "      <th>Research</th>\n",
       "      <th>Researchers</th>\n",
       "      <th>Slums</th>\n",
       "      <th>High-tech</th>\n",
       "    </tr>\n",
       "  </thead>\n",
       "  <tbody>\n",
       "    <tr>\n",
       "      <th>0</th>\n",
       "      <td>Argentina</td>\n",
       "      <td>2005</td>\n",
       "      <td>8522.522732</td>\n",
       "      <td>0.37867</td>\n",
       "      <td>814.091187</td>\n",
       "      <td>26.2</td>\n",
       "      <td>6.826630</td>\n",
       "    </tr>\n",
       "    <tr>\n",
       "      <th>1</th>\n",
       "      <td>Argentina</td>\n",
       "      <td>2004</td>\n",
       "      <td>7913.743124</td>\n",
       "      <td>0.36555</td>\n",
       "      <td>760.958679</td>\n",
       "      <td>NaN</td>\n",
       "      <td>7.719024</td>\n",
       "    </tr>\n",
       "    <tr>\n",
       "      <th>2</th>\n",
       "      <td>Argentina</td>\n",
       "      <td>2003</td>\n",
       "      <td>7337.792038</td>\n",
       "      <td>0.41012</td>\n",
       "      <td>714.366333</td>\n",
       "      <td>NaN</td>\n",
       "      <td>8.897495</td>\n",
       "    </tr>\n",
       "    <tr>\n",
       "      <th>3</th>\n",
       "      <td>Australia</td>\n",
       "      <td>2005</td>\n",
       "      <td>48702.734693</td>\n",
       "      <td>NaN</td>\n",
       "      <td>NaN</td>\n",
       "      <td>NaN</td>\n",
       "      <td>12.767628</td>\n",
       "    </tr>\n",
       "    <tr>\n",
       "      <th>4</th>\n",
       "      <td>Australia</td>\n",
       "      <td>2004</td>\n",
       "      <td>47817.899232</td>\n",
       "      <td>1.85394</td>\n",
       "      <td>4062.525391</td>\n",
       "      <td>NaN</td>\n",
       "      <td>13.533303</td>\n",
       "    </tr>\n",
       "  </tbody>\n",
       "</table>\n",
       "</div>"
      ],
      "text/plain": [
       "     Country  Year           GDP  Research  Researchers  Slums  High-tech\n",
       "0  Argentina  2005   8522.522732   0.37867   814.091187   26.2   6.826630\n",
       "1  Argentina  2004   7913.743124   0.36555   760.958679    NaN   7.719024\n",
       "2  Argentina  2003   7337.792038   0.41012   714.366333    NaN   8.897495\n",
       "3  Australia  2005  48702.734693       NaN          NaN    NaN  12.767628\n",
       "4  Australia  2004  47817.899232   1.85394  4062.525391    NaN  13.533303"
      ]
     },
     "execution_count": 79,
     "metadata": {},
     "output_type": "execute_result"
    }
   ],
   "source": [
    "from pandas_datareader import wb\n",
    "indicators=[\n",
    "    'NY.GDP.PCAP.KD',    # GDP per capita\n",
    "    'GB.XPD.RSDV.GD.ZS', # Research funding as percent GDP\n",
    "    'SP.POP.SCIE.RD.P6', # No. researchers per million\n",
    "    'EN.POP.SLUM.UR.ZS', # Percent population in slum\n",
    "    'TX.VAL.TECH.MF.ZS'  # Percent of export that is High-tech\n",
    "]\n",
    "\n",
    "wb_values = wb.download(indicator=indicators, country=gun_toters.index)\n",
    "wb_values.reset_index(inplace=True)\n",
    "wb_values.columns = [\n",
    "    'Country',\n",
    "    'Year',\n",
    "    'GDP',\n",
    "    'Research',\n",
    "    'Researchers',\n",
    "    'Slums',\n",
    "    'High-tech']\n",
    "wb_values[0:5]"
   ]
  },
  {
   "cell_type": "markdown",
   "metadata": {},
   "source": [
    "We don't really care to have the granularity of years though. So for each country we take the mean of the values. We also need the country code to match up with the other table. So let's make that an index here too. And we should drop the 'Country' column to avoid collisions with the other data set."
   ]
  },
  {
   "cell_type": "code",
   "execution_count": 80,
   "metadata": {},
   "outputs": [
    {
     "data": {
      "text/html": [
       "<div>\n",
       "<style>\n",
       "    .dataframe thead tr:only-child th {\n",
       "        text-align: right;\n",
       "    }\n",
       "\n",
       "    .dataframe thead th {\n",
       "        text-align: left;\n",
       "    }\n",
       "\n",
       "    .dataframe tbody tr th {\n",
       "        vertical-align: top;\n",
       "    }\n",
       "</style>\n",
       "<table border=\"1\" class=\"dataframe\">\n",
       "  <thead>\n",
       "    <tr style=\"text-align: right;\">\n",
       "      <th></th>\n",
       "      <th>GDP</th>\n",
       "      <th>Research</th>\n",
       "      <th>Researchers</th>\n",
       "      <th>Slums</th>\n",
       "      <th>High-tech</th>\n",
       "    </tr>\n",
       "    <tr>\n",
       "      <th>C2</th>\n",
       "      <th></th>\n",
       "      <th></th>\n",
       "      <th></th>\n",
       "      <th></th>\n",
       "      <th></th>\n",
       "    </tr>\n",
       "  </thead>\n",
       "  <tbody>\n",
       "    <tr>\n",
       "      <th>AR</th>\n",
       "      <td>7924.685965</td>\n",
       "      <td>0.384780</td>\n",
       "      <td>763.138733</td>\n",
       "      <td>26.2</td>\n",
       "      <td>7.814383</td>\n",
       "    </tr>\n",
       "    <tr>\n",
       "      <th>AU</th>\n",
       "      <td>47656.826371</td>\n",
       "      <td>1.853940</td>\n",
       "      <td>4062.525391</td>\n",
       "      <td>NaN</td>\n",
       "      <td>13.333150</td>\n",
       "    </tr>\n",
       "    <tr>\n",
       "      <th>AT</th>\n",
       "      <td>43754.735945</td>\n",
       "      <td>2.246533</td>\n",
       "      <td>3311.889038</td>\n",
       "      <td>NaN</td>\n",
       "      <td>15.146488</td>\n",
       "    </tr>\n",
       "    <tr>\n",
       "      <th>AZ</th>\n",
       "      <td>2488.282005</td>\n",
       "      <td>0.281070</td>\n",
       "      <td>NaN</td>\n",
       "      <td>NaN</td>\n",
       "      <td>2.794031</td>\n",
       "    </tr>\n",
       "    <tr>\n",
       "      <th>BB</th>\n",
       "      <td>15205.810863</td>\n",
       "      <td>NaN</td>\n",
       "      <td>NaN</td>\n",
       "      <td>NaN</td>\n",
       "      <td>17.303519</td>\n",
       "    </tr>\n",
       "  </tbody>\n",
       "</table>\n",
       "</div>"
      ],
      "text/plain": [
       "             GDP  Research  Researchers  Slums  High-tech\n",
       "C2                                                       \n",
       "AR   7924.685965  0.384780   763.138733   26.2   7.814383\n",
       "AU  47656.826371  1.853940  4062.525391    NaN  13.333150\n",
       "AT  43754.735945  2.246533  3311.889038    NaN  15.146488\n",
       "AZ   2488.282005  0.281070          NaN    NaN   2.794031\n",
       "BB  15205.810863       NaN          NaN    NaN  17.303519"
      ]
     },
     "execution_count": 80,
     "metadata": {},
     "output_type": "execute_result"
    }
   ],
   "source": [
    "wb_values = \\\n",
    "    wb_values \\\n",
    "    .groupby(['Country']) \\\n",
    "    .mean() \\\n",
    "    .reset_index()\n",
    "wb_values['C2'] = wb_values['Country'].apply(lambda s: country_code(s))\n",
    "wb_values.drop(['Country'], axis=1, inplace=True)\n",
    "wb_values.set_index('C2',inplace=True)\n",
    "wb_values[0:5]"
   ]
  },
  {
   "cell_type": "markdown",
   "metadata": {},
   "source": [
    "There seems to be quite a few NaNs there. Let's investigate ..."
   ]
  },
  {
   "cell_type": "code",
   "execution_count": 81,
   "metadata": {},
   "outputs": [
    {
     "data": {
      "text/plain": [
       "GDP             0\n",
       "Research       11\n",
       "Researchers    20\n",
       "Slums          49\n",
       "High-tech       1\n",
       "dtype: int64"
      ]
     },
     "execution_count": 81,
     "metadata": {},
     "output_type": "execute_result"
    }
   ],
   "source": [
    "wb_values.isnull().sum()"
   ]
  },
  {
   "cell_type": "markdown",
   "metadata": {},
   "source": [
    "So ... 'GDP' seems like a good variable to do some clustering on. And possibly 'High-tech'. The rest demands to much fudging. But we should drop the useless data and take a look at the missing value in 'High-tech'."
   ]
  },
  {
   "cell_type": "code",
   "execution_count": 82,
   "metadata": {},
   "outputs": [
    {
     "data": {
      "text/html": [
       "<div>\n",
       "<style>\n",
       "    .dataframe thead tr:only-child th {\n",
       "        text-align: right;\n",
       "    }\n",
       "\n",
       "    .dataframe thead th {\n",
       "        text-align: left;\n",
       "    }\n",
       "\n",
       "    .dataframe tbody tr th {\n",
       "        vertical-align: top;\n",
       "    }\n",
       "</style>\n",
       "<table border=\"1\" class=\"dataframe\">\n",
       "  <thead>\n",
       "    <tr style=\"text-align: right;\">\n",
       "      <th></th>\n",
       "      <th>GDP</th>\n",
       "      <th>High-tech</th>\n",
       "    </tr>\n",
       "    <tr>\n",
       "      <th>C2</th>\n",
       "      <th></th>\n",
       "      <th></th>\n",
       "    </tr>\n",
       "  </thead>\n",
       "  <tbody>\n",
       "    <tr>\n",
       "      <th>ME</th>\n",
       "      <td>5215.925249</td>\n",
       "      <td>NaN</td>\n",
       "    </tr>\n",
       "  </tbody>\n",
       "</table>\n",
       "</div>"
      ],
      "text/plain": [
       "            GDP  High-tech\n",
       "C2                        \n",
       "ME  5215.925249        NaN"
      ]
     },
     "execution_count": 82,
     "metadata": {},
     "output_type": "execute_result"
    }
   ],
   "source": [
    "wb_values.drop(['Research', 'Researchers', 'Slums'], inplace=True,axis=1)\n",
    "missing_value = wb_values[wb_values['High-tech'].isnull()]\n",
    "missing_value"
   ]
  },
  {
   "cell_type": "code",
   "execution_count": 83,
   "metadata": {},
   "outputs": [
    {
     "data": {
      "text/plain": [
       "Country(alpha_2='ME', alpha_3='MNE', name='Montenegro', numeric='499', official_name='Montenegro')"
      ]
     },
     "execution_count": 83,
     "metadata": {},
     "output_type": "execute_result"
    }
   ],
   "source": [
    " pc.countries.get(alpha_2='ME')"
   ]
  },
  {
   "cell_type": "markdown",
   "metadata": {},
   "source": [
    "Ok ... Montenegro. Not a huge country in tech, from what I can tell. Lets find the countries in the same GDP range and assign something similar. Say the mean of that range.\n",
    "\n",
    "I have no idea if it's reasonable, but plus minus 1000 in GDP would give a range to work with ..."
   ]
  },
  {
   "cell_type": "code",
   "execution_count": 84,
   "metadata": {},
   "outputs": [
    {
     "data": {
      "text/html": [
       "<div>\n",
       "<style>\n",
       "    .dataframe thead tr:only-child th {\n",
       "        text-align: right;\n",
       "    }\n",
       "\n",
       "    .dataframe thead th {\n",
       "        text-align: left;\n",
       "    }\n",
       "\n",
       "    .dataframe tbody tr th {\n",
       "        vertical-align: top;\n",
       "    }\n",
       "</style>\n",
       "<table border=\"1\" class=\"dataframe\">\n",
       "  <thead>\n",
       "    <tr style=\"text-align: right;\">\n",
       "      <th></th>\n",
       "      <th>GDP</th>\n",
       "      <th>High-tech</th>\n",
       "    </tr>\n",
       "    <tr>\n",
       "      <th>C2</th>\n",
       "      <th></th>\n",
       "      <th></th>\n",
       "    </tr>\n",
       "  </thead>\n",
       "  <tbody>\n",
       "    <tr>\n",
       "      <th>BG</th>\n",
       "      <td>5276.003003</td>\n",
       "      <td>4.422789</td>\n",
       "    </tr>\n",
       "    <tr>\n",
       "      <th>CO</th>\n",
       "      <td>5132.672316</td>\n",
       "      <td>5.766862</td>\n",
       "    </tr>\n",
       "    <tr>\n",
       "      <th>JM</th>\n",
       "      <td>4903.662668</td>\n",
       "      <td>0.086861</td>\n",
       "    </tr>\n",
       "    <tr>\n",
       "      <th>ME</th>\n",
       "      <td>5215.925249</td>\n",
       "      <td>NaN</td>\n",
       "    </tr>\n",
       "    <tr>\n",
       "      <th>PA</th>\n",
       "      <td>5810.007791</td>\n",
       "      <td>1.539080</td>\n",
       "    </tr>\n",
       "    <tr>\n",
       "      <th>RS</th>\n",
       "      <td>4353.453377</td>\n",
       "      <td>3.749469</td>\n",
       "    </tr>\n",
       "  </tbody>\n",
       "</table>\n",
       "</div>"
      ],
      "text/plain": [
       "            GDP  High-tech\n",
       "C2                        \n",
       "BG  5276.003003   4.422789\n",
       "CO  5132.672316   5.766862\n",
       "JM  4903.662668   0.086861\n",
       "ME  5215.925249        NaN\n",
       "PA  5810.007791   1.539080\n",
       "RS  4353.453377   3.749469"
      ]
     },
     "execution_count": 84,
     "metadata": {},
     "output_type": "execute_result"
    }
   ],
   "source": [
    "min_gdp = missing_value.GDP[0] - 1000\n",
    "max_gdp = missing_value.GDP[0] + 1000\n",
    "ME_tech_range = wb_values[(wb_values.GDP > min_gdp) & (wb_values.GDP < max_gdp)]\n",
    "ME_tech_range"
   ]
  },
  {
   "cell_type": "code",
   "execution_count": 85,
   "metadata": {},
   "outputs": [
    {
     "data": {
      "text/html": [
       "<div>\n",
       "<style>\n",
       "    .dataframe thead tr:only-child th {\n",
       "        text-align: right;\n",
       "    }\n",
       "\n",
       "    .dataframe thead th {\n",
       "        text-align: left;\n",
       "    }\n",
       "\n",
       "    .dataframe tbody tr th {\n",
       "        vertical-align: top;\n",
       "    }\n",
       "</style>\n",
       "<table border=\"1\" class=\"dataframe\">\n",
       "  <thead>\n",
       "    <tr style=\"text-align: right;\">\n",
       "      <th></th>\n",
       "      <th>GDP</th>\n",
       "      <th>High-tech</th>\n",
       "    </tr>\n",
       "    <tr>\n",
       "      <th>C2</th>\n",
       "      <th></th>\n",
       "      <th></th>\n",
       "    </tr>\n",
       "  </thead>\n",
       "  <tbody>\n",
       "  </tbody>\n",
       "</table>\n",
       "</div>"
      ],
      "text/plain": [
       "Empty DataFrame\n",
       "Columns: [GDP, High-tech]\n",
       "Index: []"
      ]
     },
     "execution_count": 85,
     "metadata": {},
     "output_type": "execute_result"
    }
   ],
   "source": [
    "mean_for_range = ME_tech_range['High-tech'].mean()\n",
    "wb_values.set_value('ME', 'High-tech',mean_for_range)\n",
    "wb_values[wb_values['High-tech'].isnull()]"
   ]
  },
  {
   "cell_type": "markdown",
   "metadata": {},
   "source": [
    "No nulls!"
   ]
  },
  {
   "cell_type": "code",
   "execution_count": 86,
   "metadata": {},
   "outputs": [
    {
     "data": {
      "image/png": "[encoded data removed]",
      "text/plain": [
       "<matplotlib.figure.Figure at 0x1ed78cec6a0>"
      ]
     },
     "metadata": {},
     "output_type": "display_data"
    }
   ],
   "source": [
    "wb_values_ax = wb_values.plot.scatter(x='High-tech', y='GDP', s=50)\n",
    "plt.show()"
   ]
  },
  {
   "cell_type": "code",
   "execution_count": 97,
   "metadata": {},
   "outputs": [
    {
     "data": {
      "text/html": [
       "<div>\n",
       "<style>\n",
       "    .dataframe thead tr:only-child th {\n",
       "        text-align: right;\n",
       "    }\n",
       "\n",
       "    .dataframe thead th {\n",
       "        text-align: left;\n",
       "    }\n",
       "\n",
       "    .dataframe tbody tr th {\n",
       "        vertical-align: top;\n",
       "    }\n",
       "</style>\n",
       "<table border=\"1\" class=\"dataframe\">\n",
       "  <thead>\n",
       "    <tr style=\"text-align: right;\">\n",
       "      <th></th>\n",
       "      <th>GDP</th>\n",
       "      <th>High-tech</th>\n",
       "      <th>Cluster</th>\n",
       "    </tr>\n",
       "    <tr>\n",
       "      <th>C2</th>\n",
       "      <th></th>\n",
       "      <th></th>\n",
       "      <th></th>\n",
       "    </tr>\n",
       "  </thead>\n",
       "  <tbody>\n",
       "    <tr>\n",
       "      <th>AR</th>\n",
       "      <td>7924.685965</td>\n",
       "      <td>7.814383</td>\n",
       "      <td>1</td>\n",
       "    </tr>\n",
       "    <tr>\n",
       "      <th>AU</th>\n",
       "      <td>47656.826371</td>\n",
       "      <td>13.333150</td>\n",
       "      <td>0</td>\n",
       "    </tr>\n",
       "    <tr>\n",
       "      <th>AT</th>\n",
       "      <td>43754.735945</td>\n",
       "      <td>15.146488</td>\n",
       "      <td>0</td>\n",
       "    </tr>\n",
       "    <tr>\n",
       "      <th>AZ</th>\n",
       "      <td>2488.282005</td>\n",
       "      <td>2.794031</td>\n",
       "      <td>1</td>\n",
       "    </tr>\n",
       "    <tr>\n",
       "      <th>BB</th>\n",
       "      <td>15205.810863</td>\n",
       "      <td>17.303519</td>\n",
       "      <td>1</td>\n",
       "    </tr>\n",
       "  </tbody>\n",
       "</table>\n",
       "</div>"
      ],
      "text/plain": [
       "             GDP  High-tech  Cluster\n",
       "C2                                  \n",
       "AR   7924.685965   7.814383        1\n",
       "AU  47656.826371  13.333150        0\n",
       "AT  43754.735945  15.146488        0\n",
       "AZ   2488.282005   2.794031        1\n",
       "BB  15205.810863  17.303519        1"
      ]
     },
     "execution_count": 97,
     "metadata": {},
     "output_type": "execute_result"
    }
   ],
   "source": [
    "from sklearn.cluster import KMeans\n",
    "kmeans = KMeans(n_clusters=3, random_state=0).fit(wb_values[['GDP', 'High-tech']])\n",
    "wb_values['Cluster'] = kmeans.labels_\n",
    "wb_values[0:5]"
   ]
  },
  {
   "cell_type": "markdown",
   "metadata": {},
   "source": [
    "Not super helpful ... A colorised plot perhaps?"
   ]
  },
  {
   "cell_type": "code",
   "execution_count": 98,
   "metadata": {},
   "outputs": [
    {
     "data": {
      "image/png": "[encoded data removed]",
      "text/plain": [
       "<matplotlib.figure.Figure at 0x1ed789d7748>"
      ]
     },
     "metadata": {},
     "output_type": "display_data"
    }
   ],
   "source": [
    "ax = wb_values.plot.scatter(\n",
    "    x='High-tech',\n",
    "    y='GDP',\n",
    "    c='Cluster',\n",
    "    s=50)\n",
    "plt.show()"
   ]
  },
  {
   "cell_type": "markdown",
   "metadata": {},
   "source": [
    "Now we would like to join up the two different datasets. This is why we've kept fighting to keep the 'C2' column in good shape."
   ]
  },
  {
   "cell_type": "code",
   "execution_count": 99,
   "metadata": {},
   "outputs": [
    {
     "data": {
      "text/html": [
       "<div>\n",
       "<style>\n",
       "    .dataframe thead tr:only-child th {\n",
       "        text-align: right;\n",
       "    }\n",
       "\n",
       "    .dataframe thead th {\n",
       "        text-align: left;\n",
       "    }\n",
       "\n",
       "    .dataframe tbody tr th {\n",
       "        vertical-align: top;\n",
       "    }\n",
       "</style>\n",
       "<table border=\"1\" class=\"dataframe\">\n",
       "  <thead>\n",
       "    <tr style=\"text-align: right;\">\n",
       "      <th></th>\n",
       "      <th>Country</th>\n",
       "      <th>Deaths</th>\n",
       "      <th>Guns</th>\n",
       "      <th>Year</th>\n",
       "      <th>GDP</th>\n",
       "      <th>High-tech</th>\n",
       "      <th>Cluster</th>\n",
       "    </tr>\n",
       "    <tr>\n",
       "      <th>C2</th>\n",
       "      <th></th>\n",
       "      <th></th>\n",
       "      <th></th>\n",
       "      <th></th>\n",
       "      <th></th>\n",
       "      <th></th>\n",
       "      <th></th>\n",
       "    </tr>\n",
       "  </thead>\n",
       "  <tbody>\n",
       "    <tr>\n",
       "      <th>JP</th>\n",
       "      <td>Japan</td>\n",
       "      <td>0.06</td>\n",
       "      <td>0.6</td>\n",
       "      <td>2008.0</td>\n",
       "      <td>43603.112336</td>\n",
       "      <td>23.837842</td>\n",
       "      <td>0</td>\n",
       "    </tr>\n",
       "    <tr>\n",
       "      <th>KR</th>\n",
       "      <td>South Korea</td>\n",
       "      <td>0.08</td>\n",
       "      <td>1.1</td>\n",
       "      <td>2011.0</td>\n",
       "      <td>17870.083391</td>\n",
       "      <td>32.569983</td>\n",
       "      <td>1</td>\n",
       "    </tr>\n",
       "    <tr>\n",
       "      <th>RO</th>\n",
       "      <td>Romania</td>\n",
       "      <td>0.14</td>\n",
       "      <td>0.7</td>\n",
       "      <td>2012.0</td>\n",
       "      <td>6436.917463</td>\n",
       "      <td>3.845048</td>\n",
       "      <td>1</td>\n",
       "    </tr>\n",
       "    <tr>\n",
       "      <th>QA</th>\n",
       "      <td>Qatar</td>\n",
       "      <td>0.15</td>\n",
       "      <td>19.2</td>\n",
       "      <td>2004.0</td>\n",
       "      <td>62518.316634</td>\n",
       "      <td>0.009966</td>\n",
       "      <td>2</td>\n",
       "    </tr>\n",
       "    <tr>\n",
       "      <th>SG</th>\n",
       "      <td>Singapore</td>\n",
       "      <td>0.16</td>\n",
       "      <td>0.5</td>\n",
       "      <td>2006.0</td>\n",
       "      <td>37790.268392</td>\n",
       "      <td>56.770908</td>\n",
       "      <td>0</td>\n",
       "    </tr>\n",
       "  </tbody>\n",
       "</table>\n",
       "</div>"
      ],
      "text/plain": [
       "        Country  Deaths  Guns    Year           GDP  High-tech  Cluster\n",
       "C2                                                                     \n",
       "JP        Japan    0.06   0.6  2008.0  43603.112336  23.837842        0\n",
       "KR  South Korea    0.08   1.1  2011.0  17870.083391  32.569983        1\n",
       "RO      Romania    0.14   0.7  2012.0   6436.917463   3.845048        1\n",
       "QA        Qatar    0.15  19.2  2004.0  62518.316634   0.009966        2\n",
       "SG    Singapore    0.16   0.5  2006.0  37790.268392  56.770908        0"
      ]
     },
     "execution_count": 99,
     "metadata": {},
     "output_type": "execute_result"
    }
   ],
   "source": [
    "gun_toters = gun_toters.join(wb_values)\n",
    "gun_toters[0:5]"
   ]
  },
  {
   "cell_type": "markdown",
   "metadata": {
    "collapsed": true
   },
   "source": [
    "And then play a bit with the numbers."
   ]
  },
  {
   "cell_type": "code",
   "execution_count": 104,
   "metadata": {},
   "outputs": [
    {
     "data": {
      "image/png": "[encoded data removed]",
      "text/plain": [
       "<matplotlib.figure.Figure at 0x1ed78aafbe0>"
      ]
     },
     "metadata": {},
     "output_type": "display_data"
    }
   ],
   "source": [
    "ax = gun_toters.plot.scatter(x='Deaths', y='Guns', c='Cluster', s=50)\n",
    "plt.show()"
   ]
  },
  {
   "cell_type": "markdown",
   "metadata": {},
   "source": [
    "Now we get to see the plot above with a socioeconomic overlay. Yey!"
   ]
  },
  {
   "cell_type": "code",
   "execution_count": 107,
   "metadata": {},
   "outputs": [
    {
     "data": {
      "image/png": "[encoded data removed]",
      "text/plain": [
       "<matplotlib.figure.Figure at 0x1ed792b3b38>"
      ]
     },
     "metadata": {},
     "output_type": "display_data"
    }
   ],
   "source": [
    "ax = gun_toters[gun_toters.Cluster != 1].plot.scatter(x='Deaths', y='Guns', c='Cluster', s=50)\n",
    "plt.show()"
   ]
  },
  {
   "cell_type": "markdown",
   "metadata": {},
   "source": [
    "For rich countries this seems very linear ..."
   ]
  },
  {
   "cell_type": "code",
   "execution_count": 128,
   "metadata": {},
   "outputs": [
    {
     "data": {
      "text/plain": [
       "LinearRegression(copy_X=True, fit_intercept=True, n_jobs=1, normalize=False)"
      ]
     },
     "execution_count": 128,
     "metadata": {},
     "output_type": "execute_result"
    }
   ],
   "source": [
    "from sklearn.linear_model import LinearRegression\n",
    "lr = LinearRegression()\n",
    "\n",
    "rich_toters = gun_toters[gun_toters.Cluster != 1]\n",
    "X = rich_toters['Guns'].values\n",
    "Y = rich_toters['Deaths'].values\n",
    "X = X.reshape(len(X), 1)\n",
    "Y= Y.reshape(len(Y), 1)\n",
    "lr.fit(X,Y)"
   ]
  },
  {
   "cell_type": "code",
   "execution_count": 132,
   "metadata": {},
   "outputs": [
    {
     "data": {
      "image/png": "[encoded data removed]",
      "text/plain": [
       "<matplotlib.figure.Figure at 0x1ed7a54dc18>"
      ]
     },
     "metadata": {},
     "output_type": "display_data"
    }
   ],
   "source": [
    "ax = rich_toters.plot.scatter(x='Guns', y='Deaths', c='Cluster', s=50)\n",
    "plt.plot(X, lr.predict(X), color='blue', linewidth=3)\n",
    "plt.show()"
   ]
  },
  {
   "cell_type": "markdown",
   "metadata": {},
   "source": [
    "Seems ok?"
   ]
  },
  {
   "cell_type": "code",
   "execution_count": 137,
   "metadata": {},
   "outputs": [
    {
     "data": {
      "text/html": [
       "<div>\n",
       "<style>\n",
       "    .dataframe thead tr:only-child th {\n",
       "        text-align: right;\n",
       "    }\n",
       "\n",
       "    .dataframe thead th {\n",
       "        text-align: left;\n",
       "    }\n",
       "\n",
       "    .dataframe tbody tr th {\n",
       "        vertical-align: top;\n",
       "    }\n",
       "</style>\n",
       "<table border=\"1\" class=\"dataframe\">\n",
       "  <thead>\n",
       "    <tr style=\"text-align: right;\">\n",
       "      <th></th>\n",
       "      <th>Country</th>\n",
       "      <th>Deaths</th>\n",
       "      <th>Guns</th>\n",
       "      <th>Year</th>\n",
       "      <th>GDP</th>\n",
       "      <th>High-tech</th>\n",
       "      <th>Cluster</th>\n",
       "    </tr>\n",
       "    <tr>\n",
       "      <th>C2</th>\n",
       "      <th></th>\n",
       "      <th></th>\n",
       "      <th></th>\n",
       "      <th></th>\n",
       "      <th></th>\n",
       "      <th></th>\n",
       "      <th></th>\n",
       "    </tr>\n",
       "  </thead>\n",
       "  <tbody>\n",
       "    <tr>\n",
       "      <th>QA</th>\n",
       "      <td>Qatar</td>\n",
       "      <td>0.15</td>\n",
       "      <td>19.20</td>\n",
       "      <td>2004.0</td>\n",
       "      <td>62518.316634</td>\n",
       "      <td>0.009966</td>\n",
       "      <td>2</td>\n",
       "    </tr>\n",
       "    <tr>\n",
       "      <th>LU</th>\n",
       "      <td>Luxembourg</td>\n",
       "      <td>1.19</td>\n",
       "      <td>15.30</td>\n",
       "      <td>2011.0</td>\n",
       "      <td>99612.567971</td>\n",
       "      <td>11.463384</td>\n",
       "      <td>2</td>\n",
       "    </tr>\n",
       "    <tr>\n",
       "      <th>NO</th>\n",
       "      <td>Norway</td>\n",
       "      <td>1.75</td>\n",
       "      <td>31.30</td>\n",
       "      <td>2012.0</td>\n",
       "      <td>86465.847954</td>\n",
       "      <td>16.787543</td>\n",
       "      <td>2</td>\n",
       "    </tr>\n",
       "    <tr>\n",
       "      <th>CH</th>\n",
       "      <td>Switzerland</td>\n",
       "      <td>3.01</td>\n",
       "      <td>24.45</td>\n",
       "      <td>2015.0</td>\n",
       "      <td>68445.874561</td>\n",
       "      <td>24.425477</td>\n",
       "      <td>2</td>\n",
       "    </tr>\n",
       "  </tbody>\n",
       "</table>\n",
       "</div>"
      ],
      "text/plain": [
       "        Country  Deaths   Guns    Year           GDP  High-tech  Cluster\n",
       "C2                                                                      \n",
       "QA        Qatar    0.15  19.20  2004.0  62518.316634   0.009966        2\n",
       "LU   Luxembourg    1.19  15.30  2011.0  99612.567971  11.463384        2\n",
       "NO       Norway    1.75  31.30  2012.0  86465.847954  16.787543        2\n",
       "CH  Switzerland    3.01  24.45  2015.0  68445.874561  24.425477        2"
      ]
     },
     "execution_count": 137,
     "metadata": {},
     "output_type": "execute_result"
    }
   ],
   "source": [
    "gun_toters[gun_toters.Cluster == 2]"
   ]
  },
  {
   "cell_type": "code",
   "execution_count": 134,
   "metadata": {},
   "outputs": [
    {
     "data": {
      "image/png": "[encoded data removed]",
      "text/plain": [
       "<matplotlib.figure.Figure at 0x1ed78a48f98>"
      ]
     },
     "metadata": {},
     "output_type": "display_data"
    }
   ],
   "source": [
    "poor_toters = gun_toters[gun_toters.Cluster == 1]\n",
    "ax = poor_toters.plot.scatter(x='Guns', y='Deaths', s=50)\n",
    "plt.plot(X, lr.predict(X), color='blue', linewidth=3)\n",
    "plt.show()\n"
   ]
  },
  {
   "cell_type": "markdown",
   "metadata": {},
   "source": [
    "Here we sort of follow the same pattern for some of the points. Could be interesting to cluster this group. Or increase the number of clusters above."
   ]
  },
  {
   "cell_type": "code",
   "execution_count": 138,
   "metadata": {},
   "outputs": [
    {
     "data": {
      "text/html": [
       "<div>\n",
       "<style>\n",
       "    .dataframe thead tr:only-child th {\n",
       "        text-align: right;\n",
       "    }\n",
       "\n",
       "    .dataframe thead th {\n",
       "        text-align: left;\n",
       "    }\n",
       "\n",
       "    .dataframe tbody tr th {\n",
       "        vertical-align: top;\n",
       "    }\n",
       "</style>\n",
       "<table border=\"1\" class=\"dataframe\">\n",
       "  <thead>\n",
       "    <tr style=\"text-align: right;\">\n",
       "      <th></th>\n",
       "      <th>Country</th>\n",
       "      <th>Deaths</th>\n",
       "      <th>Guns</th>\n",
       "      <th>Year</th>\n",
       "      <th>GDP</th>\n",
       "      <th>High-tech</th>\n",
       "      <th>Cluster</th>\n",
       "    </tr>\n",
       "    <tr>\n",
       "      <th>C2</th>\n",
       "      <th></th>\n",
       "      <th></th>\n",
       "      <th></th>\n",
       "      <th></th>\n",
       "      <th></th>\n",
       "      <th></th>\n",
       "      <th></th>\n",
       "    </tr>\n",
       "  </thead>\n",
       "  <tbody>\n",
       "    <tr>\n",
       "      <th>VE</th>\n",
       "      <td>Venezuela</td>\n",
       "      <td>59.13</td>\n",
       "      <td>10.7</td>\n",
       "      <td>2009.0</td>\n",
       "      <td>11077.990259</td>\n",
       "      <td>2.986381</td>\n",
       "      <td>1</td>\n",
       "    </tr>\n",
       "    <tr>\n",
       "      <th>HN</th>\n",
       "      <td>Honduras</td>\n",
       "      <td>67.18</td>\n",
       "      <td>6.2</td>\n",
       "      <td>2013.0</td>\n",
       "      <td>1736.859567</td>\n",
       "      <td>2.914155</td>\n",
       "      <td>1</td>\n",
       "    </tr>\n",
       "  </tbody>\n",
       "</table>\n",
       "</div>"
      ],
      "text/plain": [
       "      Country  Deaths  Guns    Year           GDP  High-tech  Cluster\n",
       "C2                                                                   \n",
       "VE  Venezuela   59.13  10.7  2009.0  11077.990259   2.986381        1\n",
       "HN   Honduras   67.18   6.2  2013.0   1736.859567   2.914155        1"
      ]
     },
     "execution_count": 138,
     "metadata": {},
     "output_type": "execute_result"
    }
   ],
   "source": [
    "poor_toters[poor_toters.Deaths > 50]"
   ]
  }
 ],
 "metadata": {
  "kernelspec": {
   "display_name": "Python 3",
   "language": "python",
   "name": "python3"
  },
  "language_info": {
   "codemirror_mode": {
    "name": "ipython",
    "version": 3
   },
   "file_extension": ".py",
   "mimetype": "text/x-python",
   "name": "python",
   "nbconvert_exporter": "python",
   "pygments_lexer": "ipython3",
   "version": "3.6.1"
  }
 },
 "nbformat": 4,
 "nbformat_minor": 2
}
